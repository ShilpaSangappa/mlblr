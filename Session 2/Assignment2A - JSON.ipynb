{
 "cells": [
  {
   "cell_type": "markdown",
   "metadata": {},
   "source": [
    "## Download notebook to edit"
   ]
  },
  {
   "cell_type": "code",
   "execution_count": 213,
   "metadata": {},
   "outputs": [],
   "source": [
    "import requests\n",
    "\n",
    "# Download the file\n",
    "url = 'https://github.com/machinelearningblr/machinelearningblr.github.io/raw/master/tutorials/CS231n-Materials/CS231n-python-numpy-tutorial.ipynb'\n",
    "r = requests.get(url)"
   ]
  },
  {
   "cell_type": "code",
   "execution_count": 214,
   "metadata": {},
   "outputs": [
    {
     "name": "stdout",
     "output_type": "stream",
     "text": [
      "<class 'list'>\n",
      "91\n",
      "{'cell_type': 'code', 'execution_count': None, 'metadata': {}, 'outputs': [], 'source': ['def quicksort(arr):\\n', '    if len(arr) <= 1:\\n', '        return arr\\n', '    pivot = arr[len(arr) // 2]\\n', '    left = [x for x in arr if x < pivot]\\n', '    middle = [x for x in arr if x == pivot]\\n', '    right = [x for x in arr if x > pivot]\\n', '    return quicksort(left) + middle + quicksort(right)\\n', '\\n', 'print(quicksort([3,6,8,10,1,2,1]))\\n', '# Prints \"[1, 1, 2, 3, 6, 8, 10]\"']}\n"
     ]
    }
   ],
   "source": [
    "#lst = list(r.json().items())\n",
    "page = r.json()\n",
    "cells = page[\"cells\"]\n",
    "print(type(cells))\n",
    "print(len(cells))\n",
    "print(cells[1])"
   ]
  },
  {
   "cell_type": "markdown",
   "metadata": {},
   "source": [
    "## Python"
   ]
  },
  {
   "cell_type": "code",
   "execution_count": 215,
   "metadata": {},
   "outputs": [
    {
     "name": "stdout",
     "output_type": "stream",
     "text": [
      "['def quicksort(arr):\\n', '    if len(arr) <= 1:\\n', '        return arr\\n', '    pivot = arr[len(arr) // 2]\\n', '    left = [x for x in arr if x < pivot]\\n', '    middle = [x for x in arr if x == pivot]\\n', '    right = [x for x in arr if x > pivot]\\n', '    return quicksort(left) + middle + quicksort(right)\\n', '\\n', 'print(quicksort([3,6,8,10,1,2,1]))\\n', '# Prints \"[1, 1, 2, 3, 6, 8, 10]\"']\n",
      "<class 'str'>\n",
      "['def quicksort(eip_list):\\n', '    if len(eip_list) <= 1:\\n', '        return eip_list\\n', '    eip_out = eip_list[len(eip_list) // 2]\\n', '    mlblr = [mlblr_in for mlblr_in in eip_list if mlblr_in < eip_out]\\n', '    eip = [mlblr_in for mlblr_in in eip_list if mlblr_in == eip_out]\\n', '    eip_in = [mlblr_in for mlblr_in in eip_list if mlblr_in > eip_out]\\n', '    return quicksort(mlblr) + eip + quicksort(eip_in)\\n', '\\n', 'print(quicksort([3,6,8,10,1,2,1]))\\n', '# Prints \"[1, 1, 2, 3, 6, 8, 10]\"']\n"
     ]
    }
   ],
   "source": [
    "# Edit Quicksort example\n",
    "code = cells[1][\"source\"]\n",
    "print(code)\n",
    "print(type(code[0]))\n",
    "code = [line.replace('arr', 'eip_list') for line in code]\n",
    "\n",
    "code = [line.replace('pivot', 'eip_out') for line in code]\n",
    "\n",
    "code = [line.replace('left', 'mlblr') for line in code]\n",
    "\n",
    "code = [line.replace('middle', 'eip') for line in code]\n",
    "\n",
    "code = [line.replace('right', 'eip_in') for line in code]\n",
    "\n",
    "code = [line.replace('x', 'mlblr_in') for line in code]\n",
    "\n",
    "cells[1][\"source\"] = code\n",
    "print(cells[1][\"source\"])"
   ]
  },
  {
   "cell_type": "markdown",
   "metadata": {},
   "source": [
    "### Basic Data Types"
   ]
  },
  {
   "cell_type": "code",
   "execution_count": 216,
   "metadata": {},
   "outputs": [
    {
     "name": "stdout",
     "output_type": "stream",
     "text": [
      "['x = 3\\n', 'print(type(x)) # Prints \"<class \\'int\\'>\"\\n', 'print(x)       # Prints \"3\"\\n', 'print(x + 1)   # Addition; prints \"4\"\\n', 'print(x - 1)   # Subtraction; prints \"2\"\\n', 'print(x * 2)   # Multiplication; prints \"6\"\\n', 'print(x ** 2)  # Exponentiation; prints \"9\"\\n', 'x += 1\\n', 'print(x)  # Prints \"4\"\\n', 'x *= 2\\n', 'print(x)  # Prints \"8\"\\n', 'y = 2.5\\n', 'print(type(y)) # Prints \"<class \\'float\\'>\"\\n', 'print(y, y + 1, y * 2, y ** 2) # Prints \"2.5 3.5 5.0 6.25\"']\n",
      "<class 'str'>\n",
      "['eip = 3\\n', 'print(type(eip)) # Prints \"<class \\'int\\'>\"\\n', 'print(eip)       # Prints \"3\"\\n', 'print(eip + 1)   # Addition; prints \"4\"\\n', 'print(eip - 1)   # Subtraction; prints \"2\"\\n', 'print(eip * 2)   # Multiplication; prints \"6\"\\n', 'print(eip ** 2)  # Exponentiation; prints \"9\"\\n', 'eip += 1\\n', 'print(eip)  # Prints \"4\"\\n', 'eip *= 2\\n', 'print(eip)  # Prints \"8\"\\n', 'mlblr = 2.5\\n', 'print(type(mlblr)) # Prints \"<class \\'float\\'>\"\\n', 'print(mlblr, mlblr + 1, mlblr * 2, mlblr ** 2) # Prints \"2.5 3.5 5.0 6.25\"']\n"
     ]
    }
   ],
   "source": [
    "# Edit Basic datatypes - Numbers\n",
    "code = cells[3][\"source\"]\n",
    "print(code)\n",
    "print(type(code[0]))\n",
    "\n",
    "code = [line.replace('x ', 'eip ') for line in code]\n",
    "\n",
    "code = [line.replace('(x)', '(eip)') for line in code]\n",
    "\n",
    "code = [line.replace('y ', 'mlblr ') for line in code]\n",
    "\n",
    "code = [line.replace('(y', '(mlblr') for line in code]\n",
    "\n",
    "cells[3][\"source\"] = code\n",
    "print(cells[3][\"source\"])"
   ]
  },
  {
   "cell_type": "code",
   "execution_count": 217,
   "metadata": {},
   "outputs": [
    {
     "name": "stdout",
     "output_type": "stream",
     "text": [
      "['t = True\\n', 'f = False\\n', 'print(type(t)) # Prints \"<class \\'bool\\'>\"\\n', 'print(t and f) # Logical AND; prints \"False\"\\n', 'print(t or f)  # Logical OR; prints \"True\"\\n', 'print(not t)   # Logical NOT; prints \"False\"\\n', 'print(t != f)  # Logical XOR; prints \"True\"']\n",
      "<class 'str'>\n",
      "['eip = True\\n', 'mlblr = False\\n', 'print(type(eip)) # Prints \"<class \\'bool\\'>\"\\n', 'print(eip and mlblr) # Logical AND; prints \"False\"\\n', 'print(eip or mlblr)  # Logical OR; prints \"True\"\\n', 'print(not eip)   # Logical NOT; prints \"False\"\\n', 'print(eip != mlblr)  # Logical XOR; prints \"True\"']\n"
     ]
    }
   ],
   "source": [
    "# Edit Basic datatypes - Booleans\n",
    "code = cells[5][\"source\"]\n",
    "print(code)\n",
    "print(type(code[0]))\n",
    "\n",
    "code = [line.replace('t =', 'eip =') for line in code]\n",
    "\n",
    "code = [line.replace('(t ', '(eip ') for line in code]\n",
    "\n",
    "code = [line.replace('t)', 'eip)') for line in code]\n",
    "\n",
    "code = [line.replace('f', 'mlblr') for line in code]\n",
    "\n",
    "cells[5][\"source\"] = code\n",
    "print(cells[5][\"source\"])"
   ]
  },
  {
   "cell_type": "code",
   "execution_count": 218,
   "metadata": {},
   "outputs": [
    {
     "name": "stdout",
     "output_type": "stream",
     "text": [
      "[\"hello = 'hello'    # String literals can use single quotes\\n\", 'world = \"world\"    # or double quotes; it does not matter.\\n', 'print(hello)       # Prints \"hello\"\\n', 'print(len(hello))  # String length; prints \"5\"\\n', \"hw = hello + ' ' + world  # String concatenation\\n\", 'print(hw)  # prints \"hello world\"\\n', \"hw12 = '%s %s %d' % (hello, world, 12)  # sprintf style string formatting\\n\", 'print(hw12)  # prints \"hello world 12\"']\n",
      "<class 'str'>\n",
      "[\"eip = 'hello'    # String literals can use single quotes\\n\", 'mlblr = \"world\"    # or double quotes; it does not matter.\\n', 'print(eip)       # Prints \"hello\"\\n', 'print(len(eip))  # String length; prints \"5\"\\n', \"mlblr_out = eip + ' ' + mlblr  # String concatenation\\n\", 'print(mlblr_out)  # prints \"hello world\"\\n', \"mlblr_in = '%s %s %d' % (eip, mlblr, 12)  # sprintf style string formatting\\n\", 'print(mlblr_in)  # prints \"hello world 12\"']\n"
     ]
    }
   ],
   "source": [
    "# Edit Basic datatypes - Strings\n",
    "code = cells[7][\"source\"]\n",
    "print(code)\n",
    "print(type(code[0]))\n",
    "\n",
    "code = [line.replace('hello =', 'eip =') for line in code]\n",
    "\n",
    "code = [line.replace('hello +', 'eip +') for line in code]\n",
    "\n",
    "code = [line.replace('(hello', '(eip') for line in code]\n",
    "\n",
    "code = [line.replace('world =', 'mlblr =') for line in code]\n",
    "\n",
    "code = [line.replace('world,', 'mlblr,') for line in code]\n",
    "\n",
    "code = [line.replace('+ world', '+ mlblr') for line in code]\n",
    "\n",
    "code = [line.replace('hw12', 'mlblr_in') for line in code]\n",
    "\n",
    "code = [line.replace('hw', 'mlblr_out') for line in code]\n",
    "\n",
    "cells[7][\"source\"] = code\n",
    "print(cells[7][\"source\"])"
   ]
  },
  {
   "cell_type": "code",
   "execution_count": 219,
   "metadata": {},
   "outputs": [
    {
     "name": "stdout",
     "output_type": "stream",
     "text": [
      "['s = \"hello\"\\n', 'print(s.capitalize())  # Capitalize a string; prints \"Hello\"\\n', 'print(s.upper())       # Convert a string to uppercase; prints \"HELLO\"\\n', 'print(s.rjust(7))      # Right-justify a string, padding with spaces; prints \"  hello\"\\n', 'print(s.center(7))     # Center a string, padding with spaces; prints \" hello \"\\n', \"print(s.replace('l', '(ell)'))  # Replace all instances of one substring with another;\\n\", '                                # prints \"he(ell)(ell)o\"\\n', 'print(\\'  world \\'.strip())  # Strip leading and trailing whitespace; prints \"world\"']\n",
      "<class 'str'>\n",
      "['eip = \"hello\"\\n', 'print(eip.capitalize())  # Capitalize a string; prints \"Hello\"\\n', 'print(eip.upper())       # Convert a string to uppercase; prints \"HELLO\"\\n', 'print(eip.rjust(7))      # Right-justify a string, padding with spaces; prints \"  hello\"\\n', 'print(eip.center(7))     # Center a string, padding with spaces; prints \" hello \"\\n', \"print(eip.replace('l', '(ell)'))  # Replace all instances of one substring with another;\\n\", '                                # prints \"he(ell)(ell)o\"\\n', 'print(\\'  world \\'.strip())  # Strip leading and trailing whitespace; prints \"world\"']\n"
     ]
    }
   ],
   "source": [
    "# Edit Basic datatypes - Strings - 2 - TODO - NOT WORKING\n",
    "code = cells[9][\"source\"]\n",
    "print(code)\n",
    "print(type(code[0]))\n",
    "\n",
    "code = [line.replace('s =', 'eip =') for line in code]\n",
    "\n",
    "code = [line.replace('s.', 'eip.') for line in code]\n",
    "\n",
    "cells[9][\"source\"] = code\n",
    "print(cells[9][\"source\"])"
   ]
  },
  {
   "cell_type": "markdown",
   "metadata": {},
   "source": [
    "### Containers"
   ]
  },
  {
   "cell_type": "code",
   "execution_count": 220,
   "metadata": {},
   "outputs": [
    {
     "name": "stdout",
     "output_type": "stream",
     "text": [
      "['xs = [3, 1, 2]    # Create a list\\n', 'print(xs, xs[2])  # Prints \"[3, 1, 2] 2\"\\n', 'print(xs[-1])     # Negative indices count from the end of the list; prints \"2\"\\n', \"xs[2] = 'foo'     # Lists can contain elements of different types\\n\", 'print(xs)         # Prints \"[3, 1, \\'foo\\']\"\\n', \"xs.append('bar')  # Add a new element to the end of the list\\n\", 'print(xs)         # Prints \"[3, 1, \\'foo\\', \\'bar\\']\"\\n', 'x = xs.pop()      # Remove and return the last element of the list\\n', 'print(x, xs)      # Prints \"bar [3, 1, \\'foo\\']\"']\n",
      "<class 'str'>\n",
      "['eip = [3, 1, 2]    # Create a list\\n', 'print(eip, eip[2])  # Prints \"[3, 1, 2] 2\"\\n', 'print(eip[-1])     # Negative indices count from the end of the list; prints \"2\"\\n', \"eip[2] = 'foo'     # Lists can contain elements of different types\\n\", 'print(eip)         # Prints \"[3, 1, \\'foo\\']\"\\n', \"eip.append('bar')  # Add a new element to the end of the list\\n\", 'print(eip)         # Prints \"[3, 1, \\'foo\\', \\'bar\\']\"\\n', 'mlblr = eip.pop()      # Remove and return the last element of the list\\n', 'print(mlblr, eip)      # Prints \"bar [3, 1, \\'foo\\']\"']\n"
     ]
    }
   ],
   "source": [
    "# Edit Basic Containers - Lists\n",
    "code = cells[11][\"source\"]\n",
    "print(code)\n",
    "print(type(code[0]))\n",
    "\n",
    "code = [line.replace('xs', 'eip') for line in code]\n",
    "\n",
    "code = [line.replace('x', 'mlblr') for line in code]\n",
    "\n",
    "cells[11][\"source\"] = code\n",
    "print(cells[11][\"source\"])"
   ]
  },
  {
   "cell_type": "code",
   "execution_count": 221,
   "metadata": {},
   "outputs": [
    {
     "name": "stdout",
     "output_type": "stream",
     "text": [
      "['nums = list(range(5))     # range is a built-in function that creates a list of integers\\n', 'print(nums)               # Prints \"[0, 1, 2, 3, 4]\"\\n', 'print(nums[2:4])          # Get a slice from index 2 to 4 (exclusive); prints \"[2, 3]\"\\n', 'print(nums[2:])           # Get a slice from index 2 to the end; prints \"[2, 3, 4]\"\\n', 'print(nums[:2])           # Get a slice from the start to index 2 (exclusive); prints \"[0, 1]\"\\n', 'print(nums[:])            # Get a slice of the whole list; prints \"[0, 1, 2, 3, 4]\"\\n', 'print(nums[:-1])          # Slice indices can be negative; prints \"[0, 1, 2, 3]\"\\n', 'nums[2:4] = [8, 9]        # Assign a new sublist to a slice\\n', 'print(nums)               # Prints \"[0, 1, 8, 9, 4]\"']\n",
      "<class 'str'>\n",
      "['eip = list(range(5))     # range is a built-in function that creates a list of integers\\n', 'print(eip)               # Prints \"[0, 1, 2, 3, 4]\"\\n', 'print(eip[2:4])          # Get a slice from index 2 to 4 (exclusive); prints \"[2, 3]\"\\n', 'print(eip[2:])           # Get a slice from index 2 to the end; prints \"[2, 3, 4]\"\\n', 'print(eip[:2])           # Get a slice from the start to index 2 (exclusive); prints \"[0, 1]\"\\n', 'print(eip[:])            # Get a slice of the whole list; prints \"[0, 1, 2, 3, 4]\"\\n', 'print(eip[:-1])          # Slice indices can be negative; prints \"[0, 1, 2, 3]\"\\n', 'eip[2:4] = [8, 9]        # Assign a new sublist to a slice\\n', 'print(eip)               # Prints \"[0, 1, 8, 9, 4]\"']\n"
     ]
    }
   ],
   "source": [
    "# Edit Basic Containers - List Slicing\n",
    "code = cells[13][\"source\"]\n",
    "print(code)\n",
    "print(type(code[0]))\n",
    "\n",
    "code = [line.replace('nums', 'eip') for line in code]\n",
    "\n",
    "cells[13][\"source\"] = code\n",
    "print(cells[13][\"source\"])"
   ]
  },
  {
   "cell_type": "code",
   "execution_count": 222,
   "metadata": {},
   "outputs": [
    {
     "name": "stdout",
     "output_type": "stream",
     "text": [
      "[\"animals = ['cat', 'dog', 'monkey']\\n\", 'for animal in animals:\\n', '    print(animal)\\n', '# Prints \"cat\", \"dog\", \"monkey\", each on its own line.']\n",
      "<class 'str'>\n",
      "[\"eip = ['cat', 'dog', 'monkey']\\n\", 'for mlblr in eip:\\n', '    print(mlblr)\\n', '# Prints \"cat\", \"dog\", \"monkey\", each on its own line.']\n"
     ]
    }
   ],
   "source": [
    "# Edit Basic Containers - List Loops 1\n",
    "code = cells[15][\"source\"]\n",
    "print(code)\n",
    "print(type(code[0]))\n",
    "\n",
    "code = [line.replace('animals', 'eip') for line in code]\n",
    "\n",
    "code = [line.replace('animal', 'mlblr') for line in code]\n",
    "\n",
    "cells[15][\"source\"] = code\n",
    "print(cells[15][\"source\"])"
   ]
  },
  {
   "cell_type": "code",
   "execution_count": 223,
   "metadata": {},
   "outputs": [
    {
     "name": "stdout",
     "output_type": "stream",
     "text": [
      "[\"animals = ['cat', 'dog', 'monkey']\\n\", 'for idx, animal in enumerate(animals):\\n', \"    print('#%d: %s' % (idx + 1, animal))\\n\", '# Prints \"#1: cat\", \"#2: dog\", \"#3: monkey\", each on its own line']\n",
      "<class 'str'>\n",
      "[\"eip = ['cat', 'dog', 'monkey']\\n\", 'for mlblr_in, mlblr in enumerate(eip):\\n', \"    print('#%d: %s' % (mlblr_in + 1, mlblr))\\n\", '# Prints \"#1: cat\", \"#2: dog\", \"#3: monkey\", each on its own line']\n"
     ]
    }
   ],
   "source": [
    "# Edit Basic Containers - List Loops 2\n",
    "code = cells[17][\"source\"]\n",
    "print(code)\n",
    "print(type(code[0]))\n",
    "\n",
    "code = [line.replace('animals', 'eip') for line in code]\n",
    "\n",
    "code = [line.replace('animal', 'mlblr') for line in code]\n",
    "\n",
    "code = [line.replace('idx', 'mlblr_in') for line in code]\n",
    "\n",
    "cells[17][\"source\"] = code\n",
    "print(cells[17][\"source\"])"
   ]
  },
  {
   "cell_type": "code",
   "execution_count": 262,
   "metadata": {},
   "outputs": [
    {
     "name": "stdout",
     "output_type": "stream",
     "text": [
      "['eip = [0, 1, 2, 3, 4]\\n', 'mlblr = []\\n', 'for x in eip:\\n', '    mlblr.append(x ** 2)\\n', 'print(mlblr)   # Prints [0, 1, 4, 9, 16]']\n",
      "<class 'str'>\n",
      "['eip = [0, 1, 2, 3, 4]\\n', 'mlblr = []\\n', 'for mlblr_in in eip:\\n', '    mlblr.append(mlblr_in ** 2)\\n', 'print(mlblr)   # Prints [0, 1, 4, 9, 16]']\n"
     ]
    }
   ],
   "source": [
    "# Edit Basic Containers - List comprehensions 1\n",
    "code = cells[19][\"source\"]\n",
    "print(code)\n",
    "print(type(code[0]))\n",
    "\n",
    "code = [line.replace('nums', 'eip') for line in code]\n",
    "\n",
    "code = [line.replace('squares', 'mlblr') for line in code]\n",
    "\n",
    "code = [line.replace('x', 'mlblr_in') for line in code]\n",
    "\n",
    "cells[19][\"source\"] = code\n",
    "print(cells[19][\"source\"])"
   ]
  },
  {
   "cell_type": "code",
   "execution_count": 225,
   "metadata": {},
   "outputs": [
    {
     "name": "stdout",
     "output_type": "stream",
     "text": [
      "['nums = [0, 1, 2, 3, 4]\\n', 'squares = [x ** 2 for x in nums]\\n', 'print(squares)   # Prints [0, 1, 4, 9, 16]']\n",
      "<class 'str'>\n",
      "['eip = [0, 1, 2, 3, 4]\\n', 'mlblr = [mlblr_in ** 2 for mlblr_in in eip]\\n', 'print(mlblr)   # Prints [0, 1, 4, 9, 16]']\n"
     ]
    }
   ],
   "source": [
    "# Edit Basic Containers - List comprehensions 2\n",
    "code = cells[21][\"source\"]\n",
    "print(code)\n",
    "print(type(code[0]))\n",
    "\n",
    "code = [line.replace('nums', 'eip') for line in code]\n",
    "\n",
    "code = [line.replace('squares', 'mlblr') for line in code]\n",
    "\n",
    "code = [line.replace('x', 'mlblr_in') for line in code]\n",
    "\n",
    "cells[21][\"source\"] = code\n",
    "print(cells[21][\"source\"])"
   ]
  },
  {
   "cell_type": "code",
   "execution_count": 226,
   "metadata": {},
   "outputs": [
    {
     "name": "stdout",
     "output_type": "stream",
     "text": [
      "['nums = [0, 1, 2, 3, 4]\\n', 'even_squares = [x ** 2 for x in nums if x % 2 == 0]\\n', 'print(even_squares)  # Prints \"[0, 4, 16]\"']\n",
      "['eip = [0, 1, 2, 3, 4]\\n', 'mlblr = [mlblr_in ** 2 for mlblr_in in eip if mlblr_in % 2 == 0]\\n', 'print(mlblr)  # Prints \"[0, 4, 16]\"']\n"
     ]
    }
   ],
   "source": [
    "# Edit Basic Containers - List comprehensions 3\n",
    "code = cells[23][\"source\"]\n",
    "print(code)\n",
    "\n",
    "code = [line.replace('nums', 'eip') for line in code]\n",
    "\n",
    "code = [line.replace('even_squares', 'mlblr') for line in code]\n",
    "\n",
    "code = [line.replace('x', 'mlblr_in') for line in code]\n",
    "\n",
    "cells[23][\"source\"] = code\n",
    "print(cells[23][\"source\"])"
   ]
  },
  {
   "cell_type": "code",
   "execution_count": 227,
   "metadata": {},
   "outputs": [
    {
     "name": "stdout",
     "output_type": "stream",
     "text": [
      "[\"d = {'cat': 'cute', 'dog': 'furry'}  # Create a new dictionary with some data\\n\", 'print(d[\\'cat\\'])       # Get an entry from a dictionary; prints \"cute\"\\n', 'print(\\'cat\\' in d)     # Check if a dictionary has a given key; prints \"True\"\\n', \"d['fish'] = 'wet'     # Set an entry in a dictionary\\n\", 'print(d[\\'fish\\'])      # Prints \"wet\"\\n', \"# print(d['monkey'])  # KeyError: 'monkey' not a key of d\\n\", 'print(d.get(\\'monkey\\', \\'N/A\\'))  # Get an element with a default; prints \"N/A\"\\n', 'print(d.get(\\'fish\\', \\'N/A\\'))    # Get an element with a default; prints \"wet\"\\n', \"del d['fish']         # Remove an element from a dictionary\\n\", 'print(d.get(\\'fish\\', \\'N/A\\')) # \"fish\" is no longer a key; prints \"N/A\"']\n",
      "[\"eip = {'cat': 'cute', 'dog': 'furry'}  # Create a new dictionary with some data\\n\", 'print(eip[\\'cat\\'])       # Get an entry from a dictionary; prints \"cute\"\\n', 'print(\\'cat\\' in eip)     # Check if a dictionary has a given key; prints \"True\"\\n', \"eip['fish'] = 'wet'     # Set an entry in a dictionary\\n\", 'print(eip[\\'fish\\'])      # Prints \"wet\"\\n', \"# print(eip['monkey'])  # KeyError: 'monkey' not a key of d\\n\", 'print(eip.get(\\'monkey\\', \\'N/A\\'))  # Get an element with a default; prints \"N/A\"\\n', 'print(eip.get(\\'fish\\', \\'N/A\\'))    # Get an element with a default; prints \"wet\"\\n', \"del eip['fish']         # Remove an element from a dictionary\\n\", 'print(eip.get(\\'fish\\', \\'N/A\\')) # \"fish\" is no longer a key; prints \"N/A\"']\n"
     ]
    }
   ],
   "source": [
    "# Edit Basic Containers - Dictionaries\n",
    "code = cells[25][\"source\"]\n",
    "print(code)\n",
    "\n",
    "code = [line.replace('d =', 'eip =') for line in code]\n",
    "\n",
    "code = [line.replace('(d', '(eip') for line in code]\n",
    "\n",
    "code = [line.replace('d)', 'eip)') for line in code]\n",
    "\n",
    "code = [line.replace('d[', 'eip[') for line in code]\n",
    "\n",
    "cells[25][\"source\"] = code\n",
    "print(cells[25][\"source\"])"
   ]
  },
  {
   "cell_type": "code",
   "execution_count": 228,
   "metadata": {},
   "outputs": [
    {
     "name": "stdout",
     "output_type": "stream",
     "text": [
      "[\"d = {'person': 2, 'cat': 4, 'spider': 8}\\n\", 'for animal in d:\\n', '    legs = d[animal]\\n', \"    print('A %s has %d legs' % (animal, legs))\\n\", '# Prints \"A person has 2 legs\", \"A cat has 4 legs\", \"A spider has 8 legs\"']\n",
      "[\"eip = {'person': 2, 'cat': 4, 'spider': 8}\\n\", 'for mlblr in eip:\\n', '    eip_in = eip[mlblr]\\n', \"    print('A %s has %d legs' % (mlblr, eip_in))\\n\", '# Prints \"A person has 2 legs\", \"A cat has 4 legs\", \"A spider has 8 legs\"']\n"
     ]
    }
   ],
   "source": [
    "# Edit Basic Containers - Dictionaries - Loops 1\n",
    "code = cells[27][\"source\"]\n",
    "print(code)\n",
    "\n",
    "code = [line.replace('d =', 'eip =') for line in code]\n",
    "\n",
    "code = [line.replace('d:', 'eip:') for line in code]\n",
    "\n",
    "code = [line.replace('d[', 'eip[') for line in code]\n",
    "\n",
    "code = [line.replace('animal', 'mlblr') for line in code]\n",
    "\n",
    "code = [line.replace('legs ', 'eip_in ') for line in code]\n",
    "\n",
    "code = [line.replace('legs)', 'eip_in)') for line in code]\n",
    "\n",
    "cells[27][\"source\"] = code\n",
    "print(cells[27][\"source\"])"
   ]
  },
  {
   "cell_type": "code",
   "execution_count": 229,
   "metadata": {},
   "outputs": [
    {
     "name": "stdout",
     "output_type": "stream",
     "text": [
      "[\"eip = {'person': 2, 'cat': 4, 'spider': 8}\\n\", 'for mlblr in eip:\\n', '    eip_in = eip[mlblr]\\n', \"    print('A %s has %d legs' % (mlblr, eip_in))\\n\", '# Prints \"A person has 2 legs\", \"A cat has 4 legs\", \"A spider has 8 legs\"']\n",
      "[\"eip = {'person': 2, 'cat': 4, 'spider': 8}\\n\", 'for mlblr in eip:\\n', '    eip_in = eip[mlblr]\\n', \"    print('A %s has %d legs' % (mlblr, eip_in))\\n\", '# Prints \"A person has 2 legs\", \"A cat has 4 legs\", \"A spider has 8 legs\"']\n"
     ]
    }
   ],
   "source": [
    "# Edit Basic Containers - Dictionaries - Loops 2\n",
    "code = cells[27][\"source\"]\n",
    "print(code)\n",
    "\n",
    "code = [line.replace('d =', 'eip =') for line in code]\n",
    "\n",
    "code = [line.replace('d:', 'eip:') for line in code]\n",
    "\n",
    "code = [line.replace('d[', 'eip[') for line in code]\n",
    "\n",
    "code = [line.replace('animal', 'mlblr') for line in code]\n",
    "\n",
    "code = [line.replace('legs ', 'eip_in ') for line in code]\n",
    "\n",
    "code = [line.replace('legs)', 'eip_in)') for line in code]\n",
    "\n",
    "cells[27][\"source\"] = code\n",
    "print(cells[27][\"source\"])"
   ]
  },
  {
   "cell_type": "code",
   "execution_count": 230,
   "metadata": {},
   "outputs": [
    {
     "name": "stdout",
     "output_type": "stream",
     "text": [
      "['nums = [0, 1, 2, 3, 4]\\n', 'even_num_to_square = {x: x ** 2 for x in nums if x % 2 == 0}\\n', 'print(even_num_to_square)  # Prints \"{0: 0, 2: 4, 4: 16}\"']\n",
      "['eip = [0, 1, 2, 3, 4]\\n', 'mlblr = {mlblr_in: mlblr_in ** 2 for mlblr_in in eip if mlblr_in % 2 == 0}\\n', 'print(mlblr)  # Prints \"{0: 0, 2: 4, 4: 16}\"']\n"
     ]
    }
   ],
   "source": [
    "# Edit Basic Containers - Dictionary comprehensions\n",
    "code = cells[31][\"source\"]\n",
    "print(code)\n",
    "\n",
    "code = [line.replace('nums', 'eip') for line in code]\n",
    "\n",
    "code = [line.replace('even_num_to_square', 'mlblr') for line in code]\n",
    "\n",
    "code = [line.replace('x', 'mlblr_in') for line in code]\n",
    "\n",
    "cells[31][\"source\"] = code\n",
    "print(cells[31][\"source\"])"
   ]
  },
  {
   "cell_type": "code",
   "execution_count": 231,
   "metadata": {},
   "outputs": [
    {
     "name": "stdout",
     "output_type": "stream",
     "text": [
      "[\"animals = {'cat', 'dog'}\\n\", 'print(\\'cat\\' in animals)   # Check if an element is in a set; prints \"True\"\\n', 'print(\\'fish\\' in animals)  # prints \"False\"\\n', \"animals.add('fish')       # Add an element to a set\\n\", 'print(\\'fish\\' in animals)  # Prints \"True\"\\n', 'print(len(animals))       # Number of elements in a set; prints \"3\"\\n', \"animals.add('cat')        # Adding an element that is already in the set does nothing\\n\", 'print(len(animals))       # Prints \"3\"\\n', \"animals.remove('cat')     # Remove an element from a set\\n\", 'print(len(animals))       # Prints \"2\"']\n",
      "[\"eip = {'cat', 'dog'}\\n\", 'print(\\'cat\\' in eip)   # Check if an element is in a set; prints \"True\"\\n', 'print(\\'fish\\' in eip)  # prints \"False\"\\n', \"eip.add('fish')       # Add an element to a set\\n\", 'print(\\'fish\\' in eip)  # Prints \"True\"\\n', 'print(len(eip))       # Number of elements in a set; prints \"3\"\\n', \"eip.add('cat')        # Adding an element that is already in the set does nothing\\n\", 'print(len(eip))       # Prints \"3\"\\n', \"eip.remove('cat')     # Remove an element from a set\\n\", 'print(len(eip))       # Prints \"2\"']\n"
     ]
    }
   ],
   "source": [
    "# Edit Basic Containers - Sets\n",
    "code = cells[33][\"source\"]\n",
    "print(code)\n",
    "\n",
    "code = [line.replace('animals', 'eip') for line in code]\n",
    "\n",
    "cells[33][\"source\"] = code\n",
    "print(cells[33][\"source\"])"
   ]
  },
  {
   "cell_type": "code",
   "execution_count": 232,
   "metadata": {},
   "outputs": [
    {
     "name": "stdout",
     "output_type": "stream",
     "text": [
      "[\"animals = {'cat', 'dog', 'fish'}\\n\", 'for idx, animal in enumerate(animals):\\n', \"    print('#%d: %s' % (idx + 1, animal))\\n\", '# Prints \"#1: fish\", \"#2: dog\", \"#3: cat\"']\n",
      "[\"eip = {'cat', 'dog', 'fish'}\\n\", 'for mlblr_in, mlblr in enumerate(eip):\\n', \"    print('#%d: %s' % (mlblr_in + 1, mlblr))\\n\", '# Prints \"#1: fish\", \"#2: dog\", \"#3: cat\"']\n"
     ]
    }
   ],
   "source": [
    "# Edit Basic Containers - Sets Loop\n",
    "code = cells[35][\"source\"]\n",
    "print(code)\n",
    "\n",
    "code = [line.replace('animals', 'eip') for line in code]\n",
    "\n",
    "code = [line.replace('animal', 'mlblr') for line in code]\n",
    "\n",
    "code = [line.replace('idx', 'mlblr_in') for line in code]\n",
    "\n",
    "cells[35][\"source\"] = code\n",
    "print(cells[35][\"source\"])"
   ]
  },
  {
   "cell_type": "code",
   "execution_count": 233,
   "metadata": {},
   "outputs": [
    {
     "name": "stdout",
     "output_type": "stream",
     "text": [
      "['from math import sqrt\\n', 'nums = {int(sqrt(x)) for x in range(30)}\\n', 'print(nums)  # Prints \"{0, 1, 2, 3, 4, 5}\"']\n",
      "['from math import sqrt\\n', 'eip = {int(sqrt(mlblr_in)) for mlblr_in in range(30)}\\n', 'print(eip)  # Prints \"{0, 1, 2, 3, 4, 5}\"']\n"
     ]
    }
   ],
   "source": [
    "# Edit Basic Containers - Set Comprehension\n",
    "code = cells[37][\"source\"]\n",
    "print(code)\n",
    "\n",
    "code = [line.replace('nums', 'eip') for line in code]\n",
    "\n",
    "code = [line.replace('x', 'mlblr_in') for line in code]\n",
    "\n",
    "cells[37][\"source\"] = code\n",
    "print(cells[37][\"source\"])"
   ]
  },
  {
   "cell_type": "code",
   "execution_count": 234,
   "metadata": {},
   "outputs": [
    {
     "name": "stdout",
     "output_type": "stream",
     "text": [
      "['d = {(x, x + 1): x for x in range(10)}  # Create a dictionary with tuple keys\\n', 't = (5, 6)        # Create a tuple\\n', 'print(type(t))    # Prints \"<class \\'tuple\\'>\"\\n', 'print(d[t])       # Prints \"5\"\\n', 'print(d[(1, 2)])  # Prints \"1\"']\n",
      "['eip = {(mlblr_in, mlblr_in + 1): mlblr_in for mlblr_in in range(10)}  # Create a dictionary with tuple keys\\n', 'mlblr = (5, 6)        # Create a tuple\\n', 'print(type(mlblr))    # Prints \"<class \\'tuple\\'>\"\\n', 'print(eip[mlblr])       # Prints \"5\"\\n', 'print(eip[(1, 2)])  # Prints \"1\"']\n"
     ]
    }
   ],
   "source": [
    "# Edit Basic Containers - Tuples\n",
    "code = cells[39][\"source\"]\n",
    "print(code)\n",
    "\n",
    "code = [line.replace('d =', 'eip =') for line in code]\n",
    "\n",
    "code = [line.replace('d[', 'eip[') for line in code]\n",
    "\n",
    "code = [line.replace('x', 'mlblr_in') for line in code]\n",
    "\n",
    "code = [line.replace('t =', 'mlblr =') for line in code]\n",
    "code = [line.replace('[t]', '[mlblr]') for line in code]\n",
    "code = [line.replace('(t)', '(mlblr)') for line in code]\n",
    "\n",
    "cells[39][\"source\"] = code\n",
    "print(cells[39][\"source\"])"
   ]
  },
  {
   "cell_type": "markdown",
   "metadata": {},
   "source": [
    "### Functions"
   ]
  },
  {
   "cell_type": "code",
   "execution_count": 235,
   "metadata": {},
   "outputs": [
    {
     "name": "stdout",
     "output_type": "stream",
     "text": [
      "['def sign(x):\\n', '    if x > 0:\\n', \"        return 'positive'\\n\", '    elif x < 0:\\n', \"        return 'negative'\\n\", '    else:\\n', \"        return 'zero'\\n\", '\\n', 'for x in [-1, 0, 1]:\\n', '    print(sign(x))\\n', '# Prints \"negative\", \"zero\", \"positive\"']\n",
      "['def mlblr(mlblr_in):\\n', '    if mlblr_in > 0:\\n', \"        return 'positive'\\n\", '    elif mlblr_in < 0:\\n', \"        return 'negative'\\n\", '    else:\\n', \"        return 'zero'\\n\", '\\n', 'for mlblr_in in [-1, 0, 1]:\\n', '    print(mlblr(mlblr_in))\\n', '# Prints \"negative\", \"zero\", \"positive\"']\n"
     ]
    }
   ],
   "source": [
    "code = cells[41][\"source\"]\n",
    "print(code)\n",
    "\n",
    "code = [line.replace('x', 'mlblr_in') for line in code]\n",
    "\n",
    "code = [line.replace('sign', 'mlblr') for line in code]\n",
    "\n",
    "cells[41][\"source\"] = code\n",
    "print(cells[41][\"source\"])"
   ]
  },
  {
   "cell_type": "code",
   "execution_count": 236,
   "metadata": {},
   "outputs": [
    {
     "name": "stdout",
     "output_type": "stream",
     "text": [
      "['def hello(name, loud=False):\\n', '    if loud:\\n', \"        print('HELLO, %s!' % name.upper())\\n\", '    else:\\n', \"        print('Hello, %s' % name)\\n\", '\\n', 'hello(\\'Bob\\') # Prints \"Hello, Bob\"\\n', 'hello(\\'Fred\\', loud=True)  # Prints \"HELLO, FRED!\"']\n",
      "['def mlblr_in(mlblr, eip=False):\\n', '    if eip:\\n', \"        print('HELLO, %s!' % mlblr.upper())\\n\", '    else:\\n', \"        print('Hello, %s' % mlblr)\\n\", '\\n', 'mlblr_in(\\'Bob\\') # Prints \"Hello, Bob\"\\n', 'mlblr_in(\\'Fred\\', eip=True)  # Prints \"HELLO, FRED!\"']\n"
     ]
    }
   ],
   "source": [
    "code = cells[43][\"source\"]\n",
    "print(code)\n",
    "\n",
    "code = [line.replace('hello', 'mlblr_in') for line in code]\n",
    "\n",
    "code = [line.replace('name', 'mlblr') for line in code]\n",
    "\n",
    "code = [line.replace('loud', 'eip') for line in code]\n",
    "\n",
    "cells[43][\"source\"] = code\n",
    "print(cells[43][\"source\"])"
   ]
  },
  {
   "cell_type": "markdown",
   "metadata": {},
   "source": [
    "### Classes"
   ]
  },
  {
   "cell_type": "code",
   "execution_count": 237,
   "metadata": {},
   "outputs": [
    {
     "name": "stdout",
     "output_type": "stream",
     "text": [
      "['class Greeter(object):\\n', '\\n', '    # Constructor\\n', '    def __init__(self, name):\\n', '        self.name = name  # Create an instance variable\\n', '\\n', '    # Instance method\\n', '    def greet(self, loud=False):\\n', '        if loud:\\n', \"            print('HELLO, %s!' % self.name.upper())\\n\", '        else:\\n', \"            print('Hello, %s' % self.name)\\n\", '\\n', \"g = Greeter('Fred')  # Construct an instance of the Greeter class\\n\", 'g.greet()            # Call an instance method; prints \"Hello, Fred\"\\n', 'g.greet(loud=True)   # Call an instance method; prints \"HELLO, FRED!\"']\n",
      "['class mlblr_in(object):\\n', '\\n', '    # Constructor\\n', '    def __init__(self, mlblr):\\n', '        self.mlblr = mlblr  # Create an instance variable\\n', '\\n', '    # Instance method\\n', '    def eip_in(self, eip=False):\\n', '        if eip:\\n', \"            print('HELLO, %s!' % self.mlblr.upper())\\n\", '        else:\\n', \"            print('Hello, %s' % self.mlblr)\\n\", '\\n', \"eip_out = mlblr_in('Fred')  # Construct an instance of the mlblr_in class\\n\", 'eip_out.eip_in()            # Call an instance method; prints \"Hello, Fred\"\\n', 'eip_out.eip_in(eip=True)   # Call an instance method; prints \"HELLO, FRED!\"']\n"
     ]
    }
   ],
   "source": [
    "code = cells[45][\"source\"]\n",
    "print(code)\n",
    "\n",
    "code = [line.replace('Greeter', 'mlblr_in') for line in code]\n",
    "\n",
    "code = [line.replace('name', 'mlblr') for line in code]\n",
    "\n",
    "code = [line.replace('loud', 'eip') for line in code]\n",
    "\n",
    "code = [line.replace('greet', 'eip_in') for line in code]\n",
    "\n",
    "code = [line.replace('g', 'eip_out') for line in code]\n",
    "\n",
    "\n",
    "cells[45][\"source\"] = code\n",
    "print(cells[45][\"source\"])"
   ]
  },
  {
   "cell_type": "markdown",
   "metadata": {},
   "source": [
    "## Numpy"
   ]
  },
  {
   "cell_type": "code",
   "execution_count": 238,
   "metadata": {},
   "outputs": [
    {
     "name": "stdout",
     "output_type": "stream",
     "text": [
      "['import numpy as np\\n', '\\n', 'a = np.array([1, 2, 3])   # Create a rank 1 array\\n', 'print(type(a))            # Prints \"<class \\'numpy.ndarray\\'>\"\\n', 'print(a.shape)            # Prints \"(3,)\"\\n', 'print(a[0], a[1], a[2])   # Prints \"1 2 3\"\\n', 'a[0] = 5                  # Change an element of the array\\n', 'print(a)                  # Prints \"[5, 2, 3]\"\\n', '\\n', 'b = np.array([[1,2,3],[4,5,6]])    # Create a rank 2 array\\n', 'print(b.shape)                     # Prints \"(2, 3)\"\\n', 'print(b[0, 0], b[0, 1], b[1, 0])   # Prints \"1 2 4\"']\n",
      "['import numpy as mlblr_in\\n', '\\n', 'mlblr = mlblr_in.array([1, 2, 3])   # Create a rank 1 array\\n', 'print(type(mlblr))            # Prints \"<class \\'numpy.ndarray\\'>\"\\n', 'print(mlblr.shape)            # Prints \"(3,)\"\\n', 'print(mlblr[0], mlblr[1], mlblr[2])   # Prints \"1 2 3\"\\n', 'mlblr[0] = 5                  # Change an element of the array\\n', 'print(mlblr)                  # Prints \"[5, 2, 3]\"\\n', '\\n', 'eip = mlblr_in.array([[1,2,3],[4,5,6]])    # Create a rank 2 array\\n', 'print(eip.shape)                     # Prints \"(2, 3)\"\\n', 'print(eip[0, 0], eip[0, 1], eip[1, 0])   # Prints \"1 2 4\"']\n"
     ]
    }
   ],
   "source": [
    "code = cells[47][\"source\"]\n",
    "print(code)\n",
    "\n",
    "code = [line.replace('np', 'mlblr_in') for line in code]\n",
    "\n",
    "code = [line.replace('a =', 'mlblr =') for line in code]\n",
    "code = [line.replace('(a', '(mlblr') for line in code]\n",
    "code = [line.replace('a[', 'mlblr[') for line in code]\n",
    "\n",
    "code = [line.replace('b =', 'eip =') for line in code]\n",
    "code = [line.replace('(b', '(eip') for line in code]\n",
    "code = [line.replace('b[', 'eip[') for line in code]\n",
    "\n",
    "cells[47][\"source\"] = code\n",
    "print(cells[47][\"source\"])"
   ]
  },
  {
   "cell_type": "code",
   "execution_count": 239,
   "metadata": {},
   "outputs": [
    {
     "name": "stdout",
     "output_type": "stream",
     "text": [
      "['import numpy as np\\n', '\\n', 'a = np.zeros((2,2))   # Create an array of all zeros\\n', 'print(a)              # Prints \"[[ 0.  0.]\\n', '                      #          [ 0.  0.]]\"\\n', '\\n', 'b = np.ones((1,2))    # Create an array of all ones\\n', 'print(b)              # Prints \"[[ 1.  1.]]\"\\n', '\\n', 'c = np.full((2,2), 7)  # Create a constant array\\n', 'print(c)               # Prints \"[[ 7.  7.]\\n', '                       #          [ 7.  7.]]\"\\n', '\\n', 'd = np.eye(2)         # Create a 2x2 identity matrix\\n', 'print(d)              # Prints \"[[ 1.  0.]\\n', '                      #          [ 0.  1.]]\"\\n', '\\n', 'e = np.random.random((2,2))  # Create an array filled with random values\\n', 'print(e)                     # Might print \"[[ 0.91940167  0.08143941]\\n', '                             #               [ 0.68744134  0.87236687]]\"']\n",
      "['import numpy as mlblr_in\\n', '\\n', 'mlblr = mlblr_in.zeros((2,2))   # Create an array of all zeros\\n', 'print(mlblr)              # Prints \"[[ 0.  0.]\\n', '                      #          [ 0.  0.]]\"\\n', '\\n', 'eip = mlblr_in.ones((1,2))    # Create an array of all ones\\n', 'print(eip)              # Prints \"[[ 1.  1.]]\"\\n', '\\n', 'eip_in = mlblr_in.full((2,2), 7)  # Create a constant array\\n', 'print(eip_in)               # Prints \"[[ 7.  7.]\\n', '                       #          [ 7.  7.]]\"\\n', '\\n', 'd = mlblr_in.eye(2)         # Create a 2x2 identity matrix\\n', 'print(d)              # Prints \"[[ 1.  0.]\\n', '                      #          [ 0.  1.]]\"\\n', '\\n', 'e = mlblr_in.random.random((2,2))  # Create an array filled with random values\\n', 'print(e)                     # Might print \"[[ 0.91940167  0.08143941]\\n', '                             #               [ 0.68744134  0.87236687]]\"']\n"
     ]
    }
   ],
   "source": [
    "code = cells[49][\"source\"]\n",
    "print(code)\n",
    "\n",
    "code = [line.replace('np', 'mlblr_in') for line in code]\n",
    "\n",
    "code = [line.replace('a =', 'mlblr =') for line in code]\n",
    "code = [line.replace('(a', '(mlblr') for line in code]\n",
    "\n",
    "code = [line.replace('b =', 'eip =') for line in code]\n",
    "code = [line.replace('(b', '(eip') for line in code]\n",
    "\n",
    "code = [line.replace('c =', 'eip_in =') for line in code]\n",
    "code = [line.replace('(c', '(eip_in') for line in code]\n",
    "\n",
    "cells[49][\"source\"] = code\n",
    "print(cells[49][\"source\"])"
   ]
  },
  {
   "cell_type": "code",
   "execution_count": 240,
   "metadata": {},
   "outputs": [
    {
     "name": "stdout",
     "output_type": "stream",
     "text": [
      "['import numpy as np\\n', '\\n', '# Create the following rank 2 array with shape (3, 4)\\n', '# [[ 1  2  3  4]\\n', '#  [ 5  6  7  8]\\n', '#  [ 9 10 11 12]]\\n', 'a = np.array([[1,2,3,4], [5,6,7,8], [9,10,11,12]])\\n', '\\n', '# Use slicing to pull out the subarray consisting of the first 2 rows\\n', '# and columns 1 and 2; b is the following array of shape (2, 2):\\n', '# [[2 3]\\n', '#  [6 7]]\\n', 'b = a[:2, 1:3]\\n', '\\n', '# A slice of an array is a view into the same data, so modifying it\\n', '# will modify the original array.\\n', 'print(a[0, 1])   # Prints \"2\"\\n', 'b[0, 0] = 77     # b[0, 0] is the same piece of data as a[0, 1]\\n', 'print(a[0, 1])   # Prints \"77\"']\n",
      "['import numpy as mlblr_in\\n', '\\n', '# Create the following rank 2 array with shape (3, 4)\\n', '# [[ 1  2  3  4]\\n', '#  [ 5  6  7  8]\\n', '#  [ 9 10 11 12]]\\n', 'mlblr = mlblr_in.array([[1,2,3,4], [5,6,7,8], [9,10,11,12]])\\n', '\\n', '# Use slicing to pull out the subarray consisting of the first 2 rows\\n', '# and columns 1 and 2; b is the following array of shape (2, 2):\\n', '# [[2 3]\\n', '#  [6 7]]\\n', 'eip = mlblr[:2, 1:3]\\n', '\\n', '# A slice of an array is a view into the same data, so modifying it\\n', '# will modify the original array.\\n', 'print(mlblr[0, 1])   # Prints \"2\"\\n', 'eip[0, 0] = 77     # eip[0, 0] is the same piece of data as mlblr[0, 1]\\n', 'print(mlblr[0, 1])   # Prints \"77\"']\n"
     ]
    }
   ],
   "source": [
    "code = cells[51][\"source\"]\n",
    "print(code)\n",
    "\n",
    "code = [line.replace('np', 'mlblr_in') for line in code]\n",
    "\n",
    "code = [line.replace('a =', 'mlblr =') for line in code]\n",
    "code = [line.replace('a[', 'mlblr[') for line in code]\n",
    "\n",
    "code = [line.replace('b =', 'eip =') for line in code]\n",
    "code = [line.replace('b[', 'eip[') for line in code]\n",
    "\n",
    "cells[51][\"source\"] = code\n",
    "print(cells[51][\"source\"])"
   ]
  },
  {
   "cell_type": "code",
   "execution_count": 241,
   "metadata": {},
   "outputs": [
    {
     "name": "stdout",
     "output_type": "stream",
     "text": [
      "['import numpy as np\\n', '\\n', '# Create the following rank 2 array with shape (3, 4)\\n', '# [[ 1  2  3  4]\\n', '#  [ 5  6  7  8]\\n', '#  [ 9 10 11 12]]\\n', 'a = np.array([[1,2,3,4], [5,6,7,8], [9,10,11,12]])\\n', '\\n', '# Two ways of accessing the data in the middle row of the array.\\n', '# Mixing integer indexing with slices yields an array of lower rank,\\n', '# while using only slices yields an array of the same rank as the\\n', '# original array:\\n', 'row_r1 = a[1, :]    # Rank 1 view of the second row of a\\n', 'row_r2 = a[1:2, :]  # Rank 2 view of the second row of a\\n', 'print(row_r1, row_r1.shape)  # Prints \"[5 6 7 8] (4,)\"\\n', 'print(row_r2, row_r2.shape)  # Prints \"[[5 6 7 8]] (1, 4)\"\\n', '\\n', '# We can make the same distinction when accessing columns of an array:\\n', 'col_r1 = a[:, 1]\\n', 'col_r2 = a[:, 1:2]\\n', 'print(col_r1, col_r1.shape)  # Prints \"[ 2  6 10] (3,)\"\\n', 'print(col_r2, col_r2.shape)  # Prints \"[[ 2]\\n', '                             #          [ 6]\\n', '                             #          [10]] (3, 1)\"']\n",
      "['import numpy as mlblr_in\\n', '\\n', '# Create the following rank 2 array with shape (3, 4)\\n', '# [[ 1  2  3  4]\\n', '#  [ 5  6  7  8]\\n', '#  [ 9 10 11 12]]\\n', 'mlblr = mlblr_in.array([[1,2,3,4], [5,6,7,8], [9,10,11,12]])\\n', '\\n', '# Two ways of accessing the data in the middle row of the array.\\n', '# Mixing integer indexing with slices yields an array of lower rank,\\n', '# while using only slices yields an array of the same rank as the\\n', '# original array:\\n', 'eip_in = mlblr[1, :]    # Rank 1 view of the second row of a\\n', 'eip_out = mlblr[1:2, :]  # Rank 2 view of the second row of a\\n', 'print(eip_in, eip_in.shape)  # Prints \"[5 6 7 8] (4,)\"\\n', 'print(eip_out, eip_out.shape)  # Prints \"[[5 6 7 8]] (1, 4)\"\\n', '\\n', '# We can make the same distinction when accessing columns of an array:\\n', 'mlblr_out = mlblr[:, 1]\\n', 'eip = mlblr[:, 1:2]\\n', 'print(mlblr_out, mlblr_out.shape)  # Prints \"[ 2  6 10] (3,)\"\\n', 'print(eip, eip.shape)  # Prints \"[[ 2]\\n', '                             #          [ 6]\\n', '                             #          [10]] (3, 1)\"']\n"
     ]
    }
   ],
   "source": [
    "code = cells[53][\"source\"]\n",
    "print(code)\n",
    "\n",
    "code = [line.replace('np', 'mlblr_in') for line in code]\n",
    "\n",
    "code = [line.replace('a =', 'mlblr =') for line in code]\n",
    "code = [line.replace('a[', 'mlblr[') for line in code]\n",
    "\n",
    "code = [line.replace('row_r1', 'eip_in') for line in code]\n",
    "code = [line.replace('row_r2', 'eip_out') for line in code]\n",
    "\n",
    "code = [line.replace('col_r1', 'mlblr_out') for line in code]\n",
    "code = [line.replace('col_r2', 'eip') for line in code]\n",
    "\n",
    "cells[53][\"source\"] = code\n",
    "print(cells[53][\"source\"])"
   ]
  },
  {
   "cell_type": "code",
   "execution_count": 242,
   "metadata": {},
   "outputs": [
    {
     "name": "stdout",
     "output_type": "stream",
     "text": [
      "['import numpy as np\\n', '\\n', 'a = np.array([[1,2], [3, 4], [5, 6]])\\n', '\\n', '# An example of integer array indexing.\\n', '# The returned array will have shape (3,) and\\n', 'print(a[[0, 1, 2], [0, 1, 0]])  # Prints \"[1 4 5]\"\\n', '\\n', '# The above example of integer array indexing is equivalent to this:\\n', 'print(np.array([a[0, 0], a[1, 1], a[2, 0]]))  # Prints \"[1 4 5]\"\\n', '\\n', '# When using integer array indexing, you can reuse the same\\n', '# element from the source array:\\n', 'print(a[[0, 0], [1, 1]])  # Prints \"[2 2]\"\\n', '\\n', '# Equivalent to the previous integer array indexing example\\n', 'print(np.array([a[0, 1], a[0, 1]]))  # Prints \"[2 2]\"']\n",
      "['import numpy as mlblr_in\\n', '\\n', 'mlblr = mlblr_in.array([[1,2], [3, 4], [5, 6]])\\n', '\\n', '# An example of integer array indexing.\\n', '# The returned array will have shape (3,) and\\n', 'print(mlblr[[0, 1, 2], [0, 1, 0]])  # Prints \"[1 4 5]\"\\n', '\\n', '# The above example of integer array indexing is equivalent to this:\\n', 'print(mlblr_in.array([mlblr[0, 0], mlblr[1, 1], mlblr[2, 0]]))  # Prints \"[1 4 5]\"\\n', '\\n', '# When using integer array indexing, you can reuse the same\\n', '# element from the source array:\\n', 'print(mlblr[[0, 0], [1, 1]])  # Prints \"[2 2]\"\\n', '\\n', '# Equivalent to the previous integer array indexing example\\n', 'print(mlblr_in.array([mlblr[0, 1], mlblr[0, 1]]))  # Prints \"[2 2]\"']\n"
     ]
    }
   ],
   "source": [
    "code = cells[55][\"source\"]\n",
    "print(code)\n",
    "\n",
    "code = [line.replace('np', 'mlblr_in') for line in code]\n",
    "\n",
    "code = [line.replace('a =', 'mlblr =') for line in code]\n",
    "code = [line.replace('a[', 'mlblr[') for line in code]\n",
    "code = [line.replace('(a', '(mlblr') for line in code]\n",
    "\n",
    "\n",
    "cells[55][\"source\"] = code\n",
    "print(cells[55][\"source\"])"
   ]
  },
  {
   "cell_type": "code",
   "execution_count": 243,
   "metadata": {},
   "outputs": [
    {
     "name": "stdout",
     "output_type": "stream",
     "text": [
      "['import numpy as np\\n', '\\n', '# Create a new array from which we will select elements\\n', 'a = np.array([[1,2,3], [4,5,6], [7,8,9], [10, 11, 12]])\\n', '\\n', 'print(a)  # prints \"array([[ 1,  2,  3],\\n', '          #                [ 4,  5,  6],\\n', '          #                [ 7,  8,  9],\\n', '          #                [10, 11, 12]])\"\\n', '\\n', '# Create an array of indices\\n', 'b = np.array([0, 2, 0, 1])\\n', '\\n', '# Select one element from each row of a using the indices in b\\n', 'print(a[np.arange(4), b])  # Prints \"[ 1  6  7 11]\"\\n', '\\n', '# Mutate one element from each row of a using the indices in b\\n', 'a[np.arange(4), b] += 10\\n', '\\n', 'print(a)  # prints \"array([[11,  2,  3],\\n', '          #                [ 4,  5, 16],\\n', '          #                [17,  8,  9],\\n', '          #                [10, 21, 12]])']\n",
      "['import numpy as mlblr_in\\n', '\\n', '# Create a new array from which we will select elements\\n', 'mlblr = mlblr_in.array([[1,2,3], [4,5,6], [7,8,9], [10, 11, 12]])\\n', '\\n', 'print(mlblr)  # prints \"array([[ 1,  2,  3],\\n', '          #                [ 4,  5,  6],\\n', '          #                [ 7,  8,  9],\\n', '          #                [10, 11, 12]])\"\\n', '\\n', '# Create an array of indices\\n', 'eip = mlblr_in.array([0, 2, 0, 1])\\n', '\\n', '# Select one element from each row of a using the indices in b\\n', 'print(mlblr[mlblr_in.arange(4), eip])  # Prints \"[ 1  6  7 11]\"\\n', '\\n', '# Mutate one element from each row of a using the indices in b\\n', 'mlblr[mlblr_in.arange(4), eip] += 10\\n', '\\n', 'print(mlblr)  # prints \"array([[11,  2,  3],\\n', '          #                [ 4,  5, 16],\\n', '          #                [17,  8,  9],\\n', '          #                [10, 21, 12]])']\n"
     ]
    }
   ],
   "source": [
    "code = cells[57][\"source\"]\n",
    "print(code)\n",
    "\n",
    "code = [line.replace('np', 'mlblr_in') for line in code]\n",
    "\n",
    "code = [line.replace('a =', 'mlblr =') for line in code]\n",
    "code = [line.replace('a[', 'mlblr[') for line in code]\n",
    "code = [line.replace('(a', '(mlblr') for line in code]\n",
    "\n",
    "code = [line.replace('b =', 'eip =') for line in code]\n",
    "code = [line.replace('b]', 'eip]') for line in code]\n",
    "\n",
    "cells[57][\"source\"] = code\n",
    "print(cells[57][\"source\"])"
   ]
  },
  {
   "cell_type": "code",
   "execution_count": 244,
   "metadata": {},
   "outputs": [
    {
     "name": "stdout",
     "output_type": "stream",
     "text": [
      "['import numpy as np\\n', '\\n', 'a = np.array([[1,2], [3, 4], [5, 6]])\\n', '\\n', 'bool_idx = (a > 2)   # Find the elements of a that are bigger than 2;\\n', '                     # this returns a numpy array of Booleans of the same\\n', '                     # shape as a, where each slot of bool_idx tells\\n', '                     # whether that element of a is > 2.\\n', '\\n', 'print(bool_idx)      # Prints \"[[False False]\\n', '                     #          [ True  True]\\n', '                     #          [ True  True]]\"\\n', '\\n', '# We use boolean array indexing to construct a rank 1 array\\n', '# consisting of the elements of a corresponding to the True values\\n', '# of bool_idx\\n', 'print(a[bool_idx])  # Prints \"[3 4 5 6]\"\\n', '\\n', '# We can do all of the above in a single concise statement:\\n', 'print(a[a > 2])     # Prints \"[3 4 5 6]\"']\n",
      "['import numpy as mlblr_in\\n', '\\n', 'mlblr = mlblr_in.array([[1,2], [3, 4], [5, 6]])\\n', '\\n', 'mlblr_out = (mlblr > 2)   # Find the elements of a that are bigger than 2;\\n', '                     # this returns a numpy array of Booleans of the same\\n', '                     # shape as a, where each slot of mlblr_out tells\\n', '                     # whether that element of a is > 2.\\n', '\\n', 'print(mlblr_out)      # Prints \"[[False False]\\n', '                     #          [ True  True]\\n', '                     #          [ True  True]]\"\\n', '\\n', '# We use boolean array indexing to construct a rank 1 array\\n', '# consisting of the elements of a corresponding to the True values\\n', '# of mlblr_out\\n', 'print(mlblr[mlblr_out])  # Prints \"[3 4 5 6]\"\\n', '\\n', '# We can do all of the above in a single concise statement:\\n', 'print(mlblr[mlblr > 2])     # Prints \"[3 4 5 6]\"']\n"
     ]
    }
   ],
   "source": [
    "code = cells[59][\"source\"]\n",
    "print(code)\n",
    "\n",
    "code = [line.replace('np', 'mlblr_in') for line in code]\n",
    "\n",
    "code = [line.replace('a =', 'mlblr =') for line in code]\n",
    "code = [line.replace('(a', '(mlblr') for line in code]\n",
    "code = [line.replace('[a', '[mlblr') for line in code]\n",
    "\n",
    "code = [line.replace('bool_idx', 'mlblr_out') for line in code]\n",
    "\n",
    "cells[59][\"source\"] = code\n",
    "print(cells[59][\"source\"])"
   ]
  },
  {
   "cell_type": "code",
   "execution_count": 245,
   "metadata": {},
   "outputs": [
    {
     "name": "stdout",
     "output_type": "stream",
     "text": [
      "['import numpy as np\\n', '\\n', 'x = np.array([1, 2])   # Let numpy choose the datatype\\n', 'print(x.dtype)         # Prints \"int64\"\\n', '\\n', 'x = np.array([1.0, 2.0])   # Let numpy choose the datatype\\n', 'print(x.dtype)             # Prints \"float64\"\\n', '\\n', 'x = np.array([1, 2], dtype=np.int64)   # Force a particular datatype\\n', 'print(x.dtype)                         # Prints \"int64\"']\n",
      "['import numpy as mlblr_in\\n', '\\n', 'mlblr = mlblr_in.array([1, 2])   # Let numpy choose the datatype\\n', 'print(mlblr.dtype)         # Prints \"int64\"\\n', '\\n', 'mlblr = mlblr_in.array([1.0, 2.0])   # Let numpy choose the datatype\\n', 'print(mlblr.dtype)             # Prints \"float64\"\\n', '\\n', 'mlblr = mlblr_in.array([1, 2], dtype=mlblr_in.int64)   # Force a particular datatype\\n', 'print(mlblr.dtype)                         # Prints \"int64\"']\n"
     ]
    }
   ],
   "source": [
    "code = cells[61][\"source\"]\n",
    "print(code)\n",
    "\n",
    "code = [line.replace('np', 'mlblr_in') for line in code]\n",
    "\n",
    "code = [line.replace('x =', 'mlblr =') for line in code]\n",
    "code = [line.replace('(x', '(mlblr') for line in code]\n",
    "\n",
    "code = [line.replace('bool_idx', 'mlblr') for line in code]\n",
    "\n",
    "cells[61][\"source\"] = code\n",
    "print(cells[61][\"source\"])"
   ]
  },
  {
   "cell_type": "code",
   "execution_count": 246,
   "metadata": {},
   "outputs": [
    {
     "name": "stdout",
     "output_type": "stream",
     "text": [
      "['import numpy as np\\n', '\\n', 'x = np.array([[1,2],[3,4]], dtype=np.float64)\\n', 'y = np.array([[5,6],[7,8]], dtype=np.float64)\\n', '\\n', '# Elementwise sum; both produce the array\\n', '# [[ 6.0  8.0]\\n', '#  [10.0 12.0]]\\n', 'print(x + y)\\n', 'print(np.add(x, y))\\n', '\\n', '# Elementwise difference; both produce the array\\n', '# [[-4.0 -4.0]\\n', '#  [-4.0 -4.0]]\\n', 'print(x - y)\\n', 'print(np.subtract(x, y))\\n', '\\n', '# Elementwise product; both produce the array\\n', '# [[ 5.0 12.0]\\n', '#  [21.0 32.0]]\\n', 'print(x * y)\\n', 'print(np.multiply(x, y))\\n', '\\n', '# Elementwise division; both produce the array\\n', '# [[ 0.2         0.33333333]\\n', '#  [ 0.42857143  0.5       ]]\\n', 'print(x / y)\\n', 'print(np.divide(x, y))\\n', '\\n', '# Elementwise square root; produces the array\\n', '# [[ 1.          1.41421356]\\n', '#  [ 1.73205081  2.        ]]\\n', 'print(np.sqrt(x))']\n",
      "['import numpy as mlblr_in\\n', '\\n', 'mlblr = mlblr_in.array([[1,2],[3,4]], dtype=mlblr_in.float64)\\n', 'eip = mlblr_in.array([[5,6],[7,8]], dtype=mlblr_in.float64)\\n', '\\n', '# Elementwise sum; both produce the array\\n', '# [[ 6.0  8.0]\\n', '#  [10.0 12.0]]\\n', 'print(mlblr + eip)\\n', 'print(mlblr_in.add(mlblr, eip))\\n', '\\n', '# Elementwise difference; both produce the array\\n', '# [[-4.0 -4.0]\\n', '#  [-4.0 -4.0]]\\n', 'print(mlblr - eip)\\n', 'print(mlblr_in.subtract(mlblr, eip))\\n', '\\n', '# Elementwise product; both produce the array\\n', '# [[ 5.0 12.0]\\n', '#  [21.0 32.0]]\\n', 'print(mlblr * eip)\\n', 'print(mlblr_in.multiply(mlblr, eip))\\n', '\\n', '# Elementwise division; both produce the array\\n', '# [[ 0.2         0.33333333]\\n', '#  [ 0.42857143  0.5       ]]\\n', 'print(mlblr / eip)\\n', 'print(mlblr_in.divide(mlblr, eip))\\n', '\\n', '# Elementwise square root; produces the array\\n', '# [[ 1.          1.41421356]\\n', '#  [ 1.73205081  2.        ]]\\n', 'print(mlblr_in.sqrt(mlblr))']\n"
     ]
    }
   ],
   "source": [
    "code = cells[63][\"source\"]\n",
    "print(code)\n",
    "\n",
    "code = [line.replace('np', 'mlblr_in') for line in code]\n",
    "\n",
    "code = [line.replace('x =', 'mlblr =') for line in code]\n",
    "code = [line.replace('(x', '(mlblr') for line in code]\n",
    "\n",
    "code = [line.replace('y =', 'eip =') for line in code]\n",
    "code = [line.replace('y)', 'eip)') for line in code]\n",
    "\n",
    "\n",
    "cells[63][\"source\"] = code\n",
    "print(cells[63][\"source\"])"
   ]
  },
  {
   "cell_type": "code",
   "execution_count": 247,
   "metadata": {},
   "outputs": [
    {
     "name": "stdout",
     "output_type": "stream",
     "text": [
      "['import numpy as np\\n', '\\n', 'x = np.array([[1,2],[3,4]])\\n', 'y = np.array([[5,6],[7,8]])\\n', '\\n', 'v = np.array([9,10])\\n', 'w = np.array([11, 12])\\n', '\\n', '# Inner product of vectors; both produce 219\\n', 'print(v.dot(w))\\n', 'print(np.dot(v, w))\\n', '\\n', '# Matrix / vector product; both produce the rank 1 array [29 67]\\n', 'print(x.dot(v))\\n', 'print(np.dot(x, v))\\n', '\\n', '# Matrix / matrix product; both produce the rank 2 array\\n', '# [[19 22]\\n', '#  [43 50]]\\n', 'print(x.dot(y))\\n', 'print(np.dot(x, y))']\n",
      "['import numpy as mlblr_in\\n', '\\n', 'mlblr = mlblr_in.array([[1,2],[3,4]])\\n', 'eip = mlblr_in.array([[5,6],[7,8]])\\n', '\\n', 'eip_in = mlblr_in.array([9,10])\\n', 'eip_out = mlblr_in.array([11, 12])\\n', '\\n', '# Inner product of vectors; both produce 219\\n', 'print(eip_in.dot(eip_out))\\n', 'print(mlblr_in.dot(eip_in, eip_out))\\n', '\\n', '# Matrix / vector product; both produce the rank 1 array [29 67]\\n', 'print(mlblr.dot(eip_in))\\n', 'print(mlblr_in.dot(mlblr, eip_in))\\n', '\\n', '# Matrix / matrix product; both produce the rank 2 array\\n', '# [[19 22]\\n', '#  [43 50]]\\n', 'print(mlblr.dot(eip))\\n', 'print(mlblr_in.dot(mlblr, eip))']\n"
     ]
    }
   ],
   "source": [
    "code = cells[65][\"source\"]\n",
    "print(code)\n",
    "\n",
    "code = [line.replace('np', 'mlblr_in') for line in code]\n",
    "\n",
    "code = [line.replace('x =', 'mlblr =') for line in code]\n",
    "code = [line.replace('(x', '(mlblr') for line in code]\n",
    "\n",
    "code = [line.replace('y =', 'eip =') for line in code]\n",
    "code = [line.replace('y)', 'eip)') for line in code]\n",
    "\n",
    "code = [line.replace('v =', 'eip_in =') for line in code]\n",
    "code = [line.replace('v)', 'eip_in)') for line in code]\n",
    "code = [line.replace('(v', '(eip_in') for line in code]\n",
    "\n",
    "code = [line.replace('w =', 'eip_out =') for line in code]\n",
    "code = [line.replace('w)', 'eip_out)') for line in code]\n",
    "\n",
    "cells[65][\"source\"] = code\n",
    "print(cells[65][\"source\"])"
   ]
  },
  {
   "cell_type": "code",
   "execution_count": 248,
   "metadata": {},
   "outputs": [
    {
     "name": "stdout",
     "output_type": "stream",
     "text": [
      "['import numpy as np\\n', '\\n', 'x = np.array([[1,2],[3,4]])\\n', '\\n', 'print(np.sum(x))  # Compute sum of all elements; prints \"10\"\\n', 'print(np.sum(x, axis=0))  # Compute sum of each column; prints \"[4 6]\"\\n', 'print(np.sum(x, axis=1))  # Compute sum of each row; prints \"[3 7]\"']\n",
      "['import numpy as mlblr_in\\n', '\\n', 'mlblr = mlblr_in.array([[1,2],[3,4]])\\n', '\\n', 'print(mlblr_in.sum(mlblr))  # Compute sum of all elements; prints \"10\"\\n', 'print(mlblr_in.sum(mlblr, axis=0))  # Compute sum of each column; prints \"[4 6]\"\\n', 'print(mlblr_in.sum(mlblr, axis=1))  # Compute sum of each row; prints \"[3 7]\"']\n"
     ]
    }
   ],
   "source": [
    "code = cells[67][\"source\"]\n",
    "print(code)\n",
    "\n",
    "code = [line.replace('np', 'mlblr_in') for line in code]\n",
    "\n",
    "code = [line.replace('x =', 'mlblr =') for line in code]\n",
    "code = [line.replace('(x', '(mlblr') for line in code]\n",
    "\n",
    "cells[67][\"source\"] = code\n",
    "print(cells[67][\"source\"])"
   ]
  },
  {
   "cell_type": "code",
   "execution_count": 249,
   "metadata": {},
   "outputs": [
    {
     "name": "stdout",
     "output_type": "stream",
     "text": [
      "['import numpy as np\\n', '\\n', 'x = np.array([[1,2], [3,4]])\\n', 'print(x)    # Prints \"[[1 2]\\n', '            #          [3 4]]\"\\n', 'print(x.T)  # Prints \"[[1 3]\\n', '            #          [2 4]]\"\\n', '\\n', '# Note that taking the transpose of a rank 1 array does nothing:\\n', 'v = np.array([1,2,3])\\n', 'print(v)    # Prints \"[1 2 3]\"\\n', 'print(v.T)  # Prints \"[1 2 3]\"']\n",
      "['import numpy as mlblr_in\\n', '\\n', 'mlblr = mlblr_in.array([[1,2], [3,4]])\\n', 'print(mlblr)    # Prints \"[[1 2]\\n', '            #          [3 4]]\"\\n', 'print(mlblr.T)  # Prints \"[[1 3]\\n', '            #          [2 4]]\"\\n', '\\n', '# Note that taking the transpose of a rank 1 array does nothing:\\n', 'eip_in = mlblr_in.array([1,2,3])\\n', 'print(eip_in)    # Prints \"[1 2 3]\"\\n', 'print(eip_in.T)  # Prints \"[1 2 3]\"']\n"
     ]
    }
   ],
   "source": [
    "code = cells[69][\"source\"]\n",
    "print(code)\n",
    "\n",
    "code = [line.replace('np', 'mlblr_in') for line in code]\n",
    "\n",
    "code = [line.replace('x =', 'mlblr =') for line in code]\n",
    "code = [line.replace('(x', '(mlblr') for line in code]\n",
    "\n",
    "code = [line.replace('v =', 'eip_in =') for line in code]\n",
    "code = [line.replace('(v', '(eip_in') for line in code]\n",
    "\n",
    "cells[69][\"source\"] = code\n",
    "print(cells[69][\"source\"])"
   ]
  },
  {
   "cell_type": "code",
   "execution_count": 263,
   "metadata": {},
   "outputs": [
    {
     "name": "stdout",
     "output_type": "stream",
     "text": [
      "['import numpy as mlblr_in\\n', '\\n', '# We will add the vector v to each row of the matrix x,\\n', '# storing the result in the matrix y\\n', 'mlblr = mlblr_in.array([[1,2,3], [4,5,6], [7,8,9], [10, 11, 12]])\\n', 'eip_in = mlblr_in.array([1, 0, 1])\\n', 'eip_in = mlblr_in.empty_like(mlblr)   # Create an empty matrix with the same shape as x\\n', '\\n', '# Add the vector v to each row of the matrix x with an explicit loop\\n', 'for i in range(4):\\n', '    +eip_ini, :] = mlblr[i, :] + eip_in\\n', '\\n', '# Now y is the following\\n', '# [[ 2  2  4]\\n', '#  [ 5  5  7]\\n', '#  [ 8  8 10]\\n', '#  [11 11 13]]\\n', 'print(eip_in)']\n",
      "['import numpy as mlblr_in\\n', '\\n', '# We will add the vector v to each row of the matrix x,\\n', '# storing the result in the matrix y\\n', 'mlblr = mlblr_in.array([[1,2,3], [4,5,6], [7,8,9], [10, 11, 12]])\\n', 'eip_in = mlblr_in.array([1, 0, 1])\\n', 'eip_in = mlblr_in.empty_like(mlblr)   # Create an empty matrix with the same shape as x\\n', '\\n', '# Add the vector v to each row of the matrix x with an explicit loop\\n', 'for i in range(4):\\n', '    +eip_ini, :] = mlblr[i, :] + eip_in\\n', '\\n', '# Now y is the following\\n', '# [[ 2  2  4]\\n', '#  [ 5  5  7]\\n', '#  [ 8  8 10]\\n', '#  [11 11 13]]\\n', 'print(eip_in)']\n"
     ]
    }
   ],
   "source": [
    "code = cells[71][\"source\"]\n",
    "print(code)\n",
    "\n",
    "code = [line.replace('np', 'mlblr_in') for line in code]\n",
    "\n",
    "code = [line.replace('x =', 'mlblr =') for line in code]\n",
    "code = [line.replace('(x', '(mlblr') for line in code]\n",
    "code = [line.replace('x[', 'mlblr[') for line in code]\n",
    "\n",
    "code = [line.replace('y =', 'eip_in =') for line in code]\n",
    "code = [line.replace('y[', 'eip_in[') for line in code]\n",
    "code = [line.replace('(y', '(eip_in') for line in code]\n",
    "\n",
    "code = [line.replace('v =', 'eip_in =') for line in code]\n",
    "code = [line.replace('+ v', '+ eip_in') for line in code]\n",
    "\n",
    "cells[71][\"source\"] = code\n",
    "print(cells[71][\"source\"])"
   ]
  },
  {
   "cell_type": "code",
   "execution_count": 264,
   "metadata": {},
   "outputs": [
    {
     "name": "stdout",
     "output_type": "stream",
     "text": [
      "['import numpy as mlblr_in\\n', '\\n', '# We will add the vector v to each row of the matrix mlblr,\\n', '# storing the result in the matrix y\\n', 'mlblr = mlblr_in.array([[1,2,3], [4,5,6], [7,8,9], [10, 11, 12]])\\n', 'eip_out = mlblr_in.array([1, 0, 1])\\n', 'veip_out = mlblr_in.tile(eip_out, (4, 1))   # Stack 4 copies of mlblr on top of each other\\n', 'print(eip_outv)                 # Prints \"[[1 0 1]\\n', '                          #          [1 0 1]\\n', '                          #          [1 0 1]\\n', '                          #          [1 0 1]]\"\\n', 'eip_in = mlblr + mlblr_in  # Add mlblr and mlblr_in elementwise\\n', 'print(eip_in)  # Prints \"[[ 2  2  4\\n', '          #          [ 5  5  7]\\n', '          #          [ 8  8 10]\\n', '          #          [11 11 13]]\"']\n",
      "['import numpy as mlblr_in\\n', '\\n', '# We will add the vector v to each row of the matrix mlblr,\\n', '# storing the result in the matrix y\\n', 'mlblr = mlblr_in.array([[1,2,3], [4,5,6], [7,8,9], [10, 11, 12]])\\n', 'eip_out = mlblr_in.array([1, 0, 1])\\n', 'veip_out = mlblr_in.tile(eip_out, (4, 1))   # Stack 4 copies of mlblr on top of each other\\n', 'print(eip_outv)                 # Prints \"[[1 0 1]\\n', '                          #          [1 0 1]\\n', '                          #          [1 0 1]\\n', '                          #          [1 0 1]]\"\\n', 'eip_in = mlblr + mlblr_in  # Add mlblr and mlblr_in elementwise\\n', 'print(eip_in)  # Prints \"[[ 2  2  4\\n', '          #          [ 5  5  7]\\n', '          #          [ 8  8 10]\\n', '          #          [11 11 13]]\"']\n"
     ]
    }
   ],
   "source": [
    "code = cells[73][\"source\"]\n",
    "print(code)\n",
    "\n",
    "code = [line.replace('np', 'mlblr_in') for line in code]\n",
    "\n",
    "code = [line.replace('x =', 'mlblr =') for line in code]\n",
    "code = [line.replace('x +', 'mlblr +') for line in code]\n",
    "code = [line.replace('matrix x', 'matrix mlblr') for line in code]\n",
    "code = [line.replace('Add x', 'Add mlblr') for line in code]\n",
    "\n",
    "code = [line.replace('y =', 'eip_in =') for line in code]\n",
    "code = [line.replace('(y', '(eip_in') for line in code]\n",
    "\n",
    "code = [line.replace('vv', 'mlblr_in') for line in code]\n",
    "\n",
    "code = [line.replace('v =', 'eip_out =') for line in code]\n",
    "code = [line.replace('(v', '(eip_out') for line in code]\n",
    "code = [line.replace('copies of v', 'copies of mlblr') for line in code]\n",
    "\n",
    "cells[73][\"source\"] = code\n",
    "print(cells[73][\"source\"])"
   ]
  },
  {
   "cell_type": "code",
   "execution_count": 252,
   "metadata": {},
   "outputs": [
    {
     "name": "stdout",
     "output_type": "stream",
     "text": [
      "['import numpy as np\\n', '\\n', '# We will add the vector v to each row of the matrix x,\\n', '# storing the result in the matrix y\\n', 'x = np.array([[1,2,3], [4,5,6], [7,8,9], [10, 11, 12]])\\n', 'v = np.array([1, 0, 1])\\n', 'y = x + v  # Add v to each row of x using broadcasting\\n', 'print(y)  # Prints \"[[ 2  2  4]\\n', '          #          [ 5  5  7]\\n', '          #          [ 8  8 10]\\n', '          #          [11 11 13]]\"']\n",
      "['import numpy as mlblr_in\\n', '\\n', '# We will add the vector eip_out to each row of the matrix mlblr,\\n', '# storing the result in the matrix y\\n', 'mlblr = mlblr_in.array([[1,2,3], [4,5,6], [7,8,9], [10, 11, 12]])\\n', 'eip_out = mlblr_in.array([1, 0, 1])\\n', 'eip_in = mlblr + eip_out  # Add eip_out to each Add mlblr using broadcasting\\n', 'print(eip_in)  # Prints \"[[ 2  2  4]\\n', '          #          [ 5  5  7]\\n', '          #          [ 8  8 10]\\n', '          #          [11 11 13]]\"']\n"
     ]
    }
   ],
   "source": [
    "code = cells[75][\"source\"]\n",
    "print(code)\n",
    "\n",
    "code = [line.replace('np', 'mlblr_in') for line in code]\n",
    "\n",
    "code = [line.replace('x =', 'mlblr =') for line in code]\n",
    "code = [line.replace('x +', 'mlblr +') for line in code]\n",
    "code = [line.replace('matrix x', 'matrix mlblr') for line in code]\n",
    "code = [line.replace('row of x', 'Add mlblr') for line in code]\n",
    "\n",
    "code = [line.replace('y =', 'eip_in =') for line in code]\n",
    "code = [line.replace('(y', '(eip_in') for line in code]\n",
    "\n",
    "code = [line.replace('v =', 'eip_out =') for line in code]\n",
    "code = [line.replace('+ v', '+ eip_out') for line in code]\n",
    "code = [line.replace('Add v', 'Add eip_out') for line in code]\n",
    "code = [line.replace('vector v', 'vector eip_out') for line in code]\n",
    "\n",
    "cells[75][\"source\"] = code\n",
    "print(cells[75][\"source\"])"
   ]
  },
  {
   "cell_type": "code",
   "execution_count": 253,
   "metadata": {},
   "outputs": [
    {
     "name": "stdout",
     "output_type": "stream",
     "text": [
      "['import numpy as np\\n', '\\n', '# Compute outer product of vectors\\n', 'v = np.array([1,2,3])  # v has shape (3,)\\n', 'w = np.array([4,5])    # w has shape (2,)\\n', '# To compute an outer product, we first reshape v to be a column\\n', '# vector of shape (3, 1); we can then broadcast it against w to yield\\n', '# an output of shape (3, 2), which is the outer product of v and w:\\n', '# [[ 4  5]\\n', '#  [ 8 10]\\n', '#  [12 15]]\\n', 'print(np.reshape(v, (3, 1)) * w)\\n', '\\n', '# Add a vector to each row of a matrix\\n', 'x = np.array([[1,2,3], [4,5,6]])\\n', '# x has shape (2, 3) and v has shape (3,) so they broadcast to (2, 3),\\n', '# giving the following matrix:\\n', '# [[2 4 6]\\n', '#  [5 7 9]]\\n', 'print(x + v)\\n', '\\n', '# Add a vector to each column of a matrix\\n', '# x has shape (2, 3) and w has shape (2,).\\n', '# If we transpose x then it has shape (3, 2) and can be broadcast\\n', '# against w to yield a result of shape (3, 2); transposing this result\\n', '# yields the final result of shape (2, 3) which is the matrix x with\\n', '# the vector w added to each column. Gives the following matrix:\\n', '# [[ 5  6  7]\\n', '#  [ 9 10 11]]\\n', 'print((x.T + w).T)\\n', '# Another solution is to reshape w to be a column vector of shape (2, 1);\\n', '# we can then broadcast it directly against x to produce the same\\n', '# output.\\n', 'print(x + np.reshape(w, (2, 1)))\\n', '\\n', '# Multiply a matrix by a constant:\\n', '# x has shape (2, 3). Numpy treats scalars as arrays of shape ();\\n', '# these can be broadcast together to shape (2, 3), producing the\\n', '# following array:\\n', '# [[ 2  4  6]\\n', '#  [ 8 10 12]]\\n', 'print(x * 2)']\n",
      "['import numpy as mlblr_in\\n', '\\n', '# Compute outer product of vectors\\n', 'eip_out == mlblr_in.array([1,2,3])  # eip_out =has shape (3,)\\n', 'eip_in = mlblr_in.array([4,5])    # eip_in has shape (2,)\\n', '# To compute an outer product, we first reshape eip_out =to be a column\\n', '# vector of shape (3, 1); we can then broadcast it against eip_in to yield\\n', '# an output of shape (3, 2), which is the outer product of eip_out =and eip_in:\\n', '# [[ 4  5]\\n', '#  [ 8 10]\\n', '#  [12 15]]\\n', 'print(mlblr_in.reshape(eip_out, (3, 1)) * eip_in)\\n', '\\n', '# Add a vector to each row of a matrix\\n', 'mlblr = mlblr_in.array([[1,2,3], [4,5,6]])\\n', '# x has shape (2, 3) and eip_out =has shape (3,) so they broadcast to (2, 3),\\n', '# giving the following matrix:\\n', '# [[2 4 6]\\n', '#  [5 7 9]]\\n', 'print(mlblr + eip_out)\\n', '\\n', '# Add a vector to each column of a matrix\\n', '# x has shape (2, 3) and eip_in has shape (2,).\\n', '# If we transpose x then it has shape (3, 2) and can be broadcast\\n', '# against eip_in to yield a result of shape (3, 2); transposing this result\\n', '# yields the final result of shape (2, 3) which is the matrix x with\\n', '# the vector w added to each column. Gives the following matrix:\\n', '# [[ 5  6  7]\\n', '#  [ 9 10 11]]\\n', 'print((mlblr.T + eip_in).T)\\n', '# Another solution is to reshape w to be a column vector of shape (2, 1);\\n', '# we can then broadcast it directly against x to produce the same\\n', '# output.\\n', 'print(mlblr + mlblr_in.reshape(eip_in, (2, 1)))\\n', '\\n', '# Multiply a matrix by a constant:\\n', '# x has shape (2, 3). Numpy treats scalars as arrays of shape ();\\n', '# these can be broadcast together to shape (2, 3), producing the\\n', '# following array:\\n', '# [[ 2  4  6]\\n', '#  [ 8 10 12]]\\n', 'print(mlblr * 2)']\n"
     ]
    }
   ],
   "source": [
    "code = cells[77][\"source\"]\n",
    "print(code)\n",
    "\n",
    "\n",
    "code = [line.replace('np', 'mlblr_in') for line in code]\n",
    "\n",
    "code = [line.replace('x =', 'mlblr =') for line in code]\n",
    "code = [line.replace('(x', '(mlblr') for line in code]\n",
    "\n",
    "code = [line.replace('w =', 'eip_in =') for line in code]\n",
    "code = [line.replace('(w', '(eip_in') for line in code]\n",
    "code = [line.replace('w)', 'eip_in)') for line in code]\n",
    "code = [line.replace('w has', 'eip_in has') for line in code]\n",
    "code = [line.replace('against w', 'against eip_in') for line in code]\n",
    "code = [line.replace('and w', 'and eip_in') for line in code]\n",
    "\n",
    "code = [line.replace('v ', 'eip_out =') for line in code]\n",
    "code = [line.replace('(v', '(eip_out') for line in code]\n",
    "code = [line.replace('v)', 'eip_out)') for line in code]\n",
    "#TODO: replace variable names in comments\n",
    "cells[77][\"source\"] = code\n",
    "print(cells[77][\"source\"])"
   ]
  },
  {
   "cell_type": "markdown",
   "metadata": {},
   "source": [
    "## Scipy"
   ]
  },
  {
   "cell_type": "code",
   "execution_count": 254,
   "metadata": {},
   "outputs": [
    {
     "name": "stdout",
     "output_type": "stream",
     "text": [
      "['from scipy.misc import imread, imsave, imresize\\n', '\\n', '# Read an JPEG image into a numpy array\\n', \"img = imread('assets/cat.jpg')\\n\", 'print(img.dtype, img.shape)  # Prints \"uint8 (400, 248, 3)\"\\n', '\\n', '# We can tint the image by scaling each of the color channels\\n', '# by a different scalar constant. The image has shape (400, 248, 3);\\n', '# we multiply it by the array [1, 0.95, 0.9] of shape (3,);\\n', '# numpy broadcasting means that this leaves the red channel unchanged,\\n', '# and multiplies the green and blue channels by 0.95 and 0.9\\n', '# respectively.\\n', 'img_tinted = img * [1, 0.95, 0.9]\\n', '\\n', '# Resize the tinted image to be 300 by 300 pixels.\\n', 'img_tinted = imresize(img_tinted, (300, 300))\\n', '\\n', '# Write the tinted image back to disk\\n', \"imsave('assets/cat_tinted.jpg', img_tinted)\"]\n",
      "['from scipy.misc import imread, imsave, imresize\\n', '\\n', '# Read an JPEG image into a numpy array\\n', \"mlblr = imread('assets/cat.jpg')\\n\", 'print(mlblr.dtype, mlblr.shape)  # Prints \"uint8 (400, 248, 3)\"\\n', '\\n', '# We can tint the image by scaling each of the color channels\\n', '# by a different scalar constant. The image has shape (400, 248, 3);\\n', '# we multiply it by the array [1, 0.95, 0.9] of shape (3,);\\n', '# numpy broadcasting means that this leaves the red channel unchanged,\\n', '# and multiplies the green and blue channels by 0.95 and 0.9\\n', '# respectively.\\n', 'mlblr_in = mlblr * [1, 0.95, 0.9]\\n', '\\n', '# Resize the tinted image to be 300 by 300 pixels.\\n', 'mlblr_in = imresize(mlblr_in, (300, 300))\\n', '\\n', '# Write the tinted image back to disk\\n', \"imsave('assets/cat_tinted.jpg', mlblr_in)\"]\n"
     ]
    }
   ],
   "source": [
    "code = cells[79][\"source\"]\n",
    "print(code)\n",
    "\n",
    "code = [line.replace('img_tinted', 'mlblr_in') for line in code]\n",
    "\n",
    "code = [line.replace('img', 'mlblr') for line in code]\n",
    "\n",
    "cells[79][\"source\"] = code\n",
    "print(cells[79][\"source\"])"
   ]
  },
  {
   "cell_type": "code",
   "execution_count": 255,
   "metadata": {},
   "outputs": [
    {
     "name": "stdout",
     "output_type": "stream",
     "text": [
      "['import numpy as np\\n', 'from scipy.spatial.distance import pdist, squareform\\n', '\\n', '# Create the following array where each row is a point in 2D space:\\n', '# [[0 1]\\n', '#  [1 0]\\n', '#  [2 0]]\\n', 'x = np.array([[0, 1], [1, 0], [2, 0]])\\n', 'print(x)\\n', '\\n', '# Compute the Euclidean distance between all rows of x.\\n', '# d[i, j] is the Euclidean distance between x[i, :] and x[j, :],\\n', '# and d is the following array:\\n', '# [[ 0.          1.41421356  2.23606798]\\n', '#  [ 1.41421356  0.          1.        ]\\n', '#  [ 2.23606798  1.          0.        ]]\\n', \"d = squareform(pdist(x, 'euclidean'))\\n\", 'print(d)']\n",
      "['import numpy as mlblr_in\\n', 'from scipy.spatial.distance import pdist, squareform\\n', '\\n', '# Create the following array where each row is a point in 2D space:\\n', '# [[0 1]\\n', '#  [1 0]\\n', '#  [2 0]]\\n', 'mlblr = mlblr_in.array([[0, 1], [1, 0], [2, 0]])\\n', 'print(mlblr)\\n', '\\n', '# Compute the Euclidean distance between all rows of mlblr.\\n', '# d[i, j] is the Euclidean distance between mlblr[i, :] and mlblr[j, :],\\n', '# and eip is the following array:\\n', '# [[ 0.          1.41421356  2.23606798]\\n', '#  [ 1.41421356  0.          1.        ]\\n', '#  [ 2.23606798  1.          0.        ]]\\n', \"eip = squareform(pdist(mlblr, 'euclidean'))\\n\", 'print(eip)']\n"
     ]
    }
   ],
   "source": [
    "code = cells[81][\"source\"]\n",
    "print(code)\n",
    "\n",
    "code = [line.replace('np', 'mlblr_in') for line in code]\n",
    "\n",
    "code = [line.replace('x', 'mlblr') for line in code]\n",
    "\n",
    "code = [line.replace('d =', 'eip =') for line in code]\n",
    "code = [line.replace('d is', 'eip is') for line in code]\n",
    "code = [line.replace('(d)', '(eip)') for line in code]\n",
    "\n",
    "cells[81][\"source\"] = code\n",
    "print(cells[81][\"source\"])"
   ]
  },
  {
   "cell_type": "markdown",
   "metadata": {},
   "source": [
    "## Matplotlib"
   ]
  },
  {
   "cell_type": "code",
   "execution_count": 256,
   "metadata": {},
   "outputs": [
    {
     "name": "stdout",
     "output_type": "stream",
     "text": [
      "['import numpy as np\\n', 'import matplotlib.pyplot as plt\\n', '\\n', '# Compute the x and y coordinates for points on a sine curve\\n', 'x = np.arange(0, 3 * np.pi, 0.1)\\n', 'y = np.sin(x)\\n', '\\n', '# Plot the points using matplotlib\\n', 'plt.plot(x, y)\\n', 'plt.show()  # You must call plt.show() to make graphics appear.']\n",
      "['import numpy as mlblr_in\\n', 'import matplotlib.pyplot as mlblr\\n', '\\n', '# Compute the eip and eip_in coordinates for points on a sine curve\\n', 'eip = mlblr_in.arange(0, 3 * mlblr_in.pi, 0.1)\\n', 'eip_in = mlblr_in.sin(eip)\\n', '\\n', '# Plot the points using matplotlib\\n', 'mlblr.plot(eip, eip_in)\\n', 'mlblr.show()  # You must call mlblr.show() to make graphics appear.']\n"
     ]
    }
   ],
   "source": [
    "code = cells[83][\"source\"]\n",
    "print(code)\n",
    "\n",
    "code = [line.replace('np', 'mlblr_in') for line in code]\n",
    "\n",
    "code = [line.replace('plt', 'mlblr') for line in code]\n",
    "\n",
    "code = [line.replace('x', 'eip') for line in code]\n",
    "\n",
    "code = [line.replace('y =', 'eip_in =') for line in code]\n",
    "code = [line.replace('y coordinates', 'eip_in coordinates') for line in code]\n",
    "code = [line.replace('y)', 'eip_in)') for line in code]\n",
    "\n",
    "cells[83][\"source\"] = code\n",
    "print(cells[83][\"source\"])"
   ]
  },
  {
   "cell_type": "code",
   "execution_count": 257,
   "metadata": {},
   "outputs": [
    {
     "name": "stdout",
     "output_type": "stream",
     "text": [
      "['import numpy as np\\n', 'import matplotlib.pyplot as plt\\n', '\\n', '# Compute the x and y coordinates for points on sine and cosine curves\\n', 'x = np.arange(0, 3 * np.pi, 0.1)\\n', 'y_sin = np.sin(x)\\n', 'y_cos = np.cos(x)\\n', '\\n', '# Plot the points using matplotlib\\n', 'plt.plot(x, y_sin)\\n', 'plt.plot(x, y_cos)\\n', \"plt.xlabel('x axis label')\\n\", \"plt.ylabel('y axis label')\\n\", \"plt.title('Sine and Cosine')\\n\", \"plt.legend(['Sine', 'Cosine'])\\n\", 'plt.show()']\n",
      "['import numpy as mlblr_in\\n', 'import matplotlib.pyplot as mlblr\\n', '\\n', '# Compute the x and y coordinates for points on sine and cosine curves\\n', 'eip = mlblr_in.arange(0, 3 * mlblr_in.pi, 0.1)\\n', 'eip_in = mlblr_in.sin(eip)\\n', 'eip_out = mlblr_in.cos(eip)\\n', '\\n', '# Plot the points using matplotlib\\n', 'mlblr.plot(eip, eip_in)\\n', 'mlblr.plot(eip, eip_out)\\n', \"mlblr.xlabel('x axis label')\\n\", \"mlblr.ylabel('y axis label')\\n\", \"mlblr.title('Sine and Cosine')\\n\", \"mlblr.legend(['Sine', 'Cosine'])\\n\", 'mlblr.show()']\n"
     ]
    }
   ],
   "source": [
    "code = cells[85][\"source\"]\n",
    "print(code)\n",
    "\n",
    "code = [line.replace('np', 'mlblr_in') for line in code]\n",
    "\n",
    "code = [line.replace('plt', 'mlblr') for line in code]\n",
    "\n",
    "code = [line.replace('x =', 'eip =') for line in code]\n",
    "code = [line.replace('(x', '(eip') for line in code]\n",
    "\n",
    "code = [line.replace('y_sin', 'eip_in') for line in code]\n",
    "code = [line.replace('y_cos', 'eip_out') for line in code]\n",
    "\n",
    "cells[85][\"source\"] = code\n",
    "print(cells[85][\"source\"])"
   ]
  },
  {
   "cell_type": "code",
   "execution_count": 258,
   "metadata": {},
   "outputs": [
    {
     "name": "stdout",
     "output_type": "stream",
     "text": [
      "['import numpy as np\\n', 'import matplotlib.pyplot as plt\\n', '\\n', '# Compute the x and y coordinates for points on sine and cosine curves\\n', 'x = np.arange(0, 3 * np.pi, 0.1)\\n', 'y_sin = np.sin(x)\\n', 'y_cos = np.cos(x)\\n', '\\n', '# Set up a subplot grid that has height 2 and width 1,\\n', '# and set the first such subplot as active.\\n', 'plt.subplot(2, 1, 1)\\n', '\\n', '# Make the first plot\\n', 'plt.plot(x, y_sin)\\n', \"plt.title('Sine')\\n\", '\\n', '# Set the second subplot as active, and make the second plot.\\n', 'plt.subplot(2, 1, 2)\\n', 'plt.plot(x, y_cos)\\n', \"plt.title('Cosine')\\n\", '\\n', '# Show the figure.\\n', 'plt.show()']\n",
      "['import numpy as mlblr_in\\n', 'import matplotlib.pyplot as mlblr\\n', '\\n', '# Compute the x and y coordinates for points on sine and cosine curves\\n', 'x = mlblr_in.arange(0, 3 * mlblr_in.pi, 0.1)\\n', 'y_sin = mlblr_in.sin(x)\\n', 'y_cos = mlblr_in.cos(x)\\n', '\\n', '# Set up a subplot grid that has height 2 and width 1,\\n', '# and set the first such subplot as active.\\n', 'mlblr.subplot(2, 1, 1)\\n', '\\n', '# Make the first plot\\n', 'mlblr.plot(x, y_sin)\\n', \"mlblr.title('Sine')\\n\", '\\n', '# Set the second subplot as active, and make the second plot.\\n', 'mlblr.subplot(2, 1, 2)\\n', 'mlblr.plot(x, y_cos)\\n', \"mlblr.title('Cosine')\\n\", '\\n', '# Show the figure.\\n', 'mlblr.show()']\n"
     ]
    }
   ],
   "source": [
    "code = cells[87][\"source\"]\n",
    "print(code)\n",
    "\n",
    "code = [line.replace('np', 'mlblr_in') for line in code]\n",
    "\n",
    "code = [line.replace('plt', 'mlblr') for line in code]\n",
    "\n",
    "code = [line.replace('img_tinted', 'eip') for line in code]\n",
    "\n",
    "code = [line.replace('img', 'eip_in') for line in code]\n",
    "\n",
    "cells[87][\"source\"] = code\n",
    "print(cells[87][\"source\"])"
   ]
  },
  {
   "cell_type": "code",
   "execution_count": 259,
   "metadata": {},
   "outputs": [
    {
     "name": "stdout",
     "output_type": "stream",
     "text": [
      "{'cell_type': 'code', 'execution_count': None, 'metadata': {}, 'outputs': [], 'source': ['import numpy as np\\n', 'from scipy.misc import imread, imresize\\n', 'import matplotlib.pyplot as plt\\n', '\\n', \"img = imread('assets/cat.jpg')\\n\", 'img_tinted = img * [1, 0.95, 0.9]\\n', '\\n', '# Show the original image\\n', 'plt.subplot(1, 2, 1)\\n', 'plt.imshow(img)\\n', '\\n', '# Show the tinted image\\n', 'plt.subplot(1, 2, 2)\\n', '\\n', '# A slight gotcha with imshow is that it might give strange results\\n', '# if presented with data that is not uint8. To work around this, we\\n', '# explicitly cast the image to uint8 before displaying it.\\n', 'plt.imshow(np.uint8(img_tinted))\\n', 'plt.show()']}\n"
     ]
    }
   ],
   "source": [
    "print(cells[89])"
   ]
  },
  {
   "cell_type": "code",
   "execution_count": 260,
   "metadata": {},
   "outputs": [
    {
     "name": "stdout",
     "output_type": "stream",
     "text": [
      "['import numpy as np\\n', 'from scipy.misc import imread, imresize\\n', 'import matplotlib.pyplot as plt\\n', '\\n', \"img = imread('assets/cat.jpg')\\n\", 'img_tinted = img * [1, 0.95, 0.9]\\n', '\\n', '# Show the original image\\n', 'plt.subplot(1, 2, 1)\\n', 'plt.imshow(img)\\n', '\\n', '# Show the tinted image\\n', 'plt.subplot(1, 2, 2)\\n', '\\n', '# A slight gotcha with imshow is that it might give strange results\\n', '# if presented with data that is not uint8. To work around this, we\\n', '# explicitly cast the image to uint8 before displaying it.\\n', 'plt.imshow(np.uint8(img_tinted))\\n', 'plt.show()']\n",
      "['import numpy as mlblr_in\\n', 'from scipy.misc import imread, imresize\\n', 'import matplotlib.pyplot as mlblr\\n', '\\n', \"eip_in = imread('assets/cat.jpg')\\n\", 'eip = eip_in * [1, 0.95, 0.9]\\n', '\\n', '# Show the original image\\n', 'mlblr.subplot(1, 2, 1)\\n', 'mlblr.imshow(eip_in)\\n', '\\n', '# Show the tinted image\\n', 'mlblr.subplot(1, 2, 2)\\n', '\\n', '# A slight gotcha with imshow is that it might give strange results\\n', '# if presented with data that is not uint8. To work around this, we\\n', '# explicitly cast the image to uint8 before displaying it.\\n', 'mlblr.imshow(mlblr_in.uint8(eip))\\n', 'mlblr.show()']\n"
     ]
    }
   ],
   "source": [
    "code = cells[89][\"source\"]\n",
    "print(code)\n",
    "\n",
    "code = [line.replace('np', 'mlblr_in') for line in code]\n",
    "\n",
    "code = [line.replace('plt', 'mlblr') for line in code]\n",
    "\n",
    "code = [line.replace('img_tinted', 'eip') for line in code]\n",
    "\n",
    "code = [line.replace('img', 'eip_in') for line in code]\n",
    "\n",
    "cells[89][\"source\"] = code\n",
    "print(cells[89][\"source\"])"
   ]
  },
  {
   "cell_type": "code",
   "execution_count": 261,
   "metadata": {},
   "outputs": [],
   "source": [
    "page[\"cells\"] = cells\n",
    "import json\n",
    "with open('JSON.ipynb', 'w') as outfile:\n",
    "    json.dump(page, outfile)"
   ]
  }
 ],
 "metadata": {
  "kernelspec": {
   "display_name": "Python 3",
   "language": "python",
   "name": "python3"
  },
  "language_info": {
   "codemirror_mode": {
    "name": "ipython",
    "version": 3
   },
   "file_extension": ".py",
   "mimetype": "text/x-python",
   "name": "python",
   "nbconvert_exporter": "python",
   "pygments_lexer": "ipython3",
   "version": "3.6.4"
  }
 },
 "nbformat": 4,
 "nbformat_minor": 2
}
