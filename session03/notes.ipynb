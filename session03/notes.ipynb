{
 "cells": [
  {
   "cell_type": "markdown",
   "metadata": {},
   "source": [
    "### 1x1 convolution or Pointwise convolution\n",
    "1x1 convolution is technically not convolution, as there is no feature extraction.\n",
    "\n",
    "### Checkered-board issue\n",
    "Checkered-board issue -> A particular column is convolved more. We are looking at some pixels more number of times than the other. \n",
    "\n",
    "Comes up on super-resolution.i.e., when we increase the resolution of a 40x40 image to 80x80, we are likely to see checker-board issue.\n",
    "\n",
    "### Dilated Convolution\n",
    "Dilates the kernel. A 3x3 kernel dilated by 1 pixel runs over a window of 5x5 in the image.\n",
    "\n",
    "Good for segmentation tasks. \n",
    "\n",
    "Increases receptive field, for the same number of computations. i.e., A 3x3 kernel dilated by 1 pixel has a receptive field of 5x5. A normal nondilated 3x3 kernel would have a receptive field of 3x3. It thus allows us to reduce the number of layers by increasing receptive field.\n",
    "\n",
    "### Deconvolution\n",
    "If we want to enlarge the image, say 3x3 image to 5x5 image, we use deconvolution.\n",
    "TODO: paper and video needs to be watched\n",
    "\n",
    "### Depthwise separable convolution\n",
    "Take depth & spread out and convolve and then do a 1x1 convolution\n",
    "Requires lesser parameters than a normal convolution\n",
    "\n",
    "### Strides\n",
    "causes checkerboard issue. Used with constrained hardware\n",
    "\n",
    "### Spatial Pyramidical\n",
    "change resolutions e.g. showing 6x6 to 4x4. Always used at the end\n",
    "\n",
    "\n",
    "### Separable convolution\n",
    "Replace a 3x3xn filter by 3xn followed by nx3.\n",
    "\n",
    "### Dropout\n",
    "Randomly select few kernels and make them zero. Good approach is not to have dropout more than 20%\n",
    "Dropout happens at layer level.Multiplication also happens at the layer dropout was used.\n"
   ]
  }
 ],
 "metadata": {
  "kernelspec": {
   "display_name": "Python 3",
   "language": "python",
   "name": "python3"
  },
  "language_info": {
   "codemirror_mode": {
    "name": "ipython",
    "version": 3
   },
   "file_extension": ".py",
   "mimetype": "text/x-python",
   "name": "python",
   "nbconvert_exporter": "python",
   "pygments_lexer": "ipython3",
   "version": "3.6.5"
  }
 },
 "nbformat": 4,
 "nbformat_minor": 2
}
